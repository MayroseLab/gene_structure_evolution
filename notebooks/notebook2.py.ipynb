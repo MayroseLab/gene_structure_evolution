{
 "cells": [
  {
   "cell_type": "code",
   "execution_count": null,
   "id": "88d219ff-c785-4ae3-93e0-66132807ed84",
   "metadata": {},
   "outputs": [],
   "source": [
    "import os\n",
    "from itertools import combinations\n",
    "#import pickle\n",
    "import numpy as np\n",
    "import pandas as pd\n",
    "import scipy\n",
    "from ete3 import Tree\n",
    "from intervaltree import IntervalTree, Interval\n",
    "import plotly.express as px\n",
    "import plotly.graph_objects as go\n",
    "from plotly.subplots import make_subplots"
   ]
  },
  {
   "cell_type": "code",
   "execution_count": null,
   "id": "40127177-877a-4fbb-9202-4a258d32128d",
   "metadata": {},
   "outputs": [],
   "source": [
    "# suppress pandas warning\n",
    "pd.options.mode.chained_assignment = None"
   ]
  },
  {
   "cell_type": "code",
   "execution_count": null,
   "id": "bc6557f0-6e2a-4c1e-98a5-8b78d1cc7d35",
   "metadata": {},
   "outputs": [],
   "source": [
    "# Plot template\n",
    "import plotly.io as pio\n",
    "\n",
    "pio.templates[\"custom\"] = go.layout.Template(\n",
    "    layout=go.Layout(\n",
    "        font_size=20,\n",
    "        font_family='Arial',\n",
    "        xaxis_mirror=True, yaxis_mirror=True,\n",
    "        xaxis_rangemode='tozero', yaxis_rangemode='tozero',\n",
    "        height=500, width=800\n",
    "    )\n",
    ")\n",
    "\n",
    "pio.templates.default = \"simple_white+custom\"\n",
    "template_colors = pio.templates[pio.templates.default]['layout']['colorway']"
   ]
  },
  {
   "cell_type": "code",
   "execution_count": null,
   "id": "b4f6f347-e38b-476e-9e14-2059c043472a",
   "metadata": {},
   "outputs": [],
   "source": [
    "figures_dir = '../fig'"
   ]
  },
  {
   "cell_type": "markdown",
   "id": "3972e9c0-5ee5-4df2-9a60-26139420ff71",
   "metadata": {},
   "source": [
    "## Load and prepare data"
   ]
  },
  {
   "cell_type": "markdown",
   "id": "ba370865-fd43-428d-a1b0-f612b9f2c09d",
   "metadata": {},
   "source": [
    "### Data paths"
   ]
  },
  {
   "cell_type": "code",
   "execution_count": null,
   "id": "25624432-7119-4978-9972-3f8926aae36a",
   "metadata": {},
   "outputs": [],
   "source": [
    "euk_tree_nwk = \"../data/euk_species_tree.nwk\"\n",
    "euk_tree_phyla10_nwk = \"../data/euk_species_tree_phyla10.nwk\"\n",
    "euk_tree_phyla10_anc_intron_ratio_nwk = '../data/euk_species_tree_phyla10_intron_ratio_anc.nwk'\n",
    "euk_tree_phyla10_anc_intron_length_nwk = '../data/euk_species_tree_phyla10_intron_length_anc.nwk'\n",
    "euk_tree_phyla10_anc_n_introns_nwk = '../data/euk_species_tree_phyla10_n_introns_anc.nwk'\n",
    "snakemake_result_dir = \"RESULT_deposit\"\n",
    "gene_structure_stats_tsv = os.path.join(snakemake_result_dir, 'all_species/intron_lengths.stats')\n",
    "per_species_dir = os.path.join(snakemake_result_dir, \"per_species\")\n",
    "all_species_dir = os.path.join(snakemake_result_dir, \"all_species\")"
   ]
  },
  {
   "cell_type": "markdown",
   "id": "c8718952-56aa-4d22-96a5-f8660940946d",
   "metadata": {},
   "source": [
    "### Gene structure stats"
   ]
  },
  {
   "cell_type": "code",
   "execution_count": null,
   "id": "3716f3b3-63b8-4ebe-8cd0-4c08dd3d2513",
   "metadata": {},
   "outputs": [],
   "source": [
    "gene_structure_stats_df = pd.read_csv(gene_structure_stats_tsv, sep='\\t', index_col=0)\n",
    "gene_structure_stats_df = gene_structure_stats_df.query('Dataset == \"all\"')"
   ]
  },
  {
   "cell_type": "code",
   "execution_count": null,
   "id": "128c0b4f-a9a1-4732-aca6-3aaddf4661c0",
   "metadata": {
    "tags": []
   },
   "outputs": [],
   "source": [
    "def binom_species(s):\n",
    "    genus, species = s.split('_')[:2]\n",
    "    return f'{genus}_{species}'\n",
    "\n",
    "gene_structure_stats_df['species'] = gene_structure_stats_df.index.to_series().apply(binom_species)"
   ]
  },
  {
   "cell_type": "code",
   "execution_count": null,
   "id": "72d526fc-f761-4d5d-bc8f-e793cb2d5a26",
   "metadata": {
    "tags": []
   },
   "outputs": [],
   "source": [
    "gene_structure_stats_df['full_name'] = gene_structure_stats_df.index\n",
    "gene_structure_stats_df.index = gene_structure_stats_df['species']"
   ]
  },
  {
   "cell_type": "code",
   "execution_count": null,
   "id": "a87dd1ff-5cfa-4d76-971a-882ab43b5e82",
   "metadata": {
    "tags": []
   },
   "outputs": [],
   "source": [
    "gene_structure_stats_df['log_Genome_size'] = np.log10(gene_structure_stats_df['Genome_size'])\n",
    "gene_structure_stats_df['log_Mean'] = np.log10(gene_structure_stats_df['Mean'])\n",
    "gene_structure_stats_df['log_Mean_total_exon_length_per_transcript'] = np.log10(gene_structure_stats_df['Mean_total_exon_length_per_transcript'])\n",
    "gene_structure_stats_df['log_Mean_total_intron_length_per_transcript'] = np.log10(gene_structure_stats_df['Mean_total_intron_length_per_transcript'])\n",
    "gene_structure_stats_df['log_Mean_intron_ratio'] = np.log10(gene_structure_stats_df['Mean_intron_ratio'])"
   ]
  },
  {
   "cell_type": "code",
   "execution_count": null,
   "id": "0259d98f-ff15-4f68-860c-2cbf41b76504",
   "metadata": {
    "tags": []
   },
   "outputs": [],
   "source": [
    "phyla_counts = pd.DataFrame(gene_structure_stats_df['phylum'].value_counts())\n",
    "phyla_counts.head(10)"
   ]
  },
  {
   "cell_type": "code",
   "execution_count": null,
   "id": "52ea887c-088a-4d9e-8123-e3e277178ae5",
   "metadata": {
    "tags": []
   },
   "outputs": [],
   "source": [
    "# phyla with >= 10 species\n",
    "phyla10 = phyla_counts.query('count >= 10').index.to_series()"
   ]
  },
  {
   "cell_type": "code",
   "execution_count": null,
   "id": "3c5dd80e-b1cf-4323-a6d6-b6d18d0e21cb",
   "metadata": {
    "tags": []
   },
   "outputs": [],
   "source": [
    "gene_structure_stats_phyla10_df = gene_structure_stats_df.loc[gene_structure_stats_df['phylum'].isin(phyla10)]"
   ]
  },
  {
   "cell_type": "code",
   "execution_count": null,
   "id": "b3db64bf-f8f9-4e8c-b14e-6612165f2b9f",
   "metadata": {},
   "outputs": [],
   "source": [
    "phy_order = ['Chordata', 'Arthropoda', 'Mollusca', 'Cnidaria', 'Nematoda', 'Ascomycota', 'Streptophyta']\n",
    "phy_colors = dict(zip(phy_order, template_colors))"
   ]
  },
  {
   "cell_type": "code",
   "execution_count": null,
   "id": "f85d30cc-a82b-4c44-9bd9-a1352b86edde",
   "metadata": {},
   "outputs": [],
   "source": [
    "# sort by phylum order\n",
    "gene_structure_stats_phyla10_df['phylum'] = pd.Categorical(gene_structure_stats_phyla10_df['phylum'], phy_order)\n",
    "gene_structure_stats_phyla10_df.sort_values(by='phylum', inplace=True)"
   ]
  },
  {
   "cell_type": "code",
   "execution_count": null,
   "id": "484176bd-4de0-4d6d-8b88-f1c4511d22cf",
   "metadata": {},
   "outputs": [],
   "source": [
    "# Create Supp table S1\n",
    "table_s1 = gene_structure_stats_df[['species', 'full_name', 'group', 'phylum', 'class', 'Min', 'Max', 'Mean', 'STD', 'Q50', 'Transcripts_count', 'Transcripts_containing_introns', 'Mean_per_transcript',  'Mean_intron_ratio', 'Mean_total_intron_length_per_transcript', 'Mean_total_exon_length_per_transcript', 'Genome_size']]\n",
    "table_s1.columns = ['species', 'species name in ENSEMBL', 'Taxonomic group', 'Phylum', 'Class', 'Min intron length', 'Max intron length', 'Mean intron length', 'Intron length SD', 'Median intron length', 'Number of transcripts', 'Number of transcripts containing introns', 'Mean number of introns per transcript',  'Mean intron ratio', 'Mean total intron length per transcript', 'Mean total exon length per transcript', 'Genome size']\n",
    "table_s1.to_csv('../data/Table_S1.tsv', sep='\\t', index=False)"
   ]
  },
  {
   "cell_type": "markdown",
   "id": "a172dd30-cd3e-4759-8e31-78618517ad3e",
   "metadata": {},
   "source": [
    "### Phylogenetic tree"
   ]
  },
  {
   "cell_type": "code",
   "execution_count": null,
   "id": "dde5051f-8003-4e2a-9025-35dbdb68a768",
   "metadata": {},
   "outputs": [],
   "source": [
    "euk_tree = Tree(euk_tree_nwk)\n",
    "euk_tree_phyla10 = Tree(euk_tree_phyla10_nwk)\n",
    "euk_tree_phyla10_anc_intron_ratio = Tree(euk_tree_phyla10_anc_intron_ratio_nwk, format=1)\n",
    "euk_tree_phyla10_anc_intron_length = Tree(euk_tree_phyla10_anc_intron_length_nwk, format=1)\n",
    "euk_tree_phyla10_anc_n_introns = Tree(euk_tree_phyla10_anc_n_introns_nwk, format=1)"
   ]
  },
  {
   "cell_type": "code",
   "execution_count": null,
   "id": "e313dea1-afa5-436e-893f-69ccecdf8855",
   "metadata": {},
   "outputs": [],
   "source": [
    "euk_tree_phyla10_species = [tip.name for tip in euk_tree_phyla10]\n",
    "species_order_dict = {v: k for k, v in dict(enumerate(euk_tree_phyla10_species)).items()}"
   ]
  },
  {
   "cell_type": "code",
   "execution_count": null,
   "id": "201dfb2b-1b10-40e7-816c-9039b644cf47",
   "metadata": {},
   "outputs": [],
   "source": [
    "euk_tree_phyla10_counts = gene_structure_stats_phyla10_df.loc[euk_tree_phyla10_species,'phylum'].astype(str).value_counts(sort=False)"
   ]
  },
  {
   "cell_type": "markdown",
   "id": "95f3be31-59ca-4946-8e5f-ef79329e63bb",
   "metadata": {},
   "source": [
    "### KS distance matrices"
   ]
  },
  {
   "cell_type": "code",
   "execution_count": null,
   "id": "d5973389-7f8d-44e9-b2f2-ee273c136eab",
   "metadata": {},
   "outputs": [],
   "source": [
    "def read_ks_distance_matrix(ks_distance_matrix_tsv):\n",
    "    ks_distance_matrix = pd.read_csv(ks_distance_matrix_tsv, sep='\\t', index_col=0)\n",
    "    # convert full species names to binomial names\n",
    "    ks_distance_matrix.index = ks_distance_matrix.index.to_series().apply(binom_species)\n",
    "    ks_distance_matrix.columns = ks_distance_matrix.columns.to_series().apply(binom_species)\n",
    "    \n",
    "    # remove species not in the phylogeny (having NaN index or column)\n",
    "    ks_distance_matrix = ks_distance_matrix.loc[euk_tree_phyla10_species,euk_tree_phyla10_species]\n",
    "    \n",
    "    # sort by order on phylogeny\n",
    "    ks_distance_matrix.sort_index(key=lambda s: s.map(species_order_dict), inplace=True)\n",
    "    ks_distance_matrix = ks_distance_matrix[sorted(ks_distance_matrix.columns, key=lambda s: species_order_dict[s])]\n",
    "\n",
    "    return ks_distance_matrix"
   ]
  },
  {
   "cell_type": "code",
   "execution_count": null,
   "id": "8fe24e9b-4bc5-4fe6-b836-a4d1c2045d4b",
   "metadata": {},
   "outputs": [],
   "source": [
    "intron_ratio_ks_distance_matrix_tsv = os.path.join(all_species_dir, 'intron_ratios_KS_dist.tsv')\n",
    "intron_ratio_ks_distance_matrix = read_ks_distance_matrix(intron_ratio_ks_distance_matrix_tsv)\n",
    "intron_len_ks_distance_matrix_tsv = os.path.join(all_species_dir, 'intron_lengths_KS_dist.tsv')\n",
    "intron_len_ks_distance_matrix = read_ks_distance_matrix(intron_len_ks_distance_matrix_tsv)\n",
    "intron_count_ks_distance_matrix_tsv = os.path.join(all_species_dir, 'intron_counts_KS_dist.tsv')\n",
    "intron_count_ks_distance_matrix = read_ks_distance_matrix(intron_count_ks_distance_matrix_tsv)"
   ]
  },
  {
   "cell_type": "markdown",
   "id": "5d2a2f1a-cc7a-4e95-abd9-a41718a12f8b",
   "metadata": {},
   "source": [
    "## Representative species\n",
    "Gene structure feature distributions for species representing each phylum"
   ]
  },
  {
   "cell_type": "code",
   "execution_count": null,
   "id": "bb540877-bcbc-4c18-8942-2c61620649e1",
   "metadata": {},
   "outputs": [],
   "source": [
    "# list of representative species, one from each phylum\n",
    "represent_spec = ['mus_musculus', 'drosophila_melanogaster', 'stylophora_pistillata',\n",
    "                 'solanum_lycopersicum', 'biomphalaria_glabrata', 'caenorhabditis_elegans',\n",
    "                 'tuber_melanosporum']\n",
    "# sort by phylum order\n",
    "represent_spec = sorted(represent_spec, key=lambda sp: phy_order.index(gene_structure_stats_df.loc[sp]['phylum']))\n",
    "represent_spec_full = [gene_structure_stats_df.loc[sp]['full_name'] for sp in represent_spec]"
   ]
  },
  {
   "cell_type": "code",
   "execution_count": null,
   "id": "34c16797-7230-4032-88cb-ead997cdbeec",
   "metadata": {},
   "outputs": [],
   "source": [
    "def attributes_to_dict(attr):\n",
    "  return {a.split('=')[0]: a.split('=')[1] for a in attr.split(';')}\n",
    "\n",
    "def attributes_to_column(row, attr):\n",
    "  attr_dict = attributes_to_dict(row['attributes'])\n",
    "  if attr in attr_dict:\n",
    "    return attr_dict[attr]\n",
    "  else:\n",
    "    return None\n",
    "\n",
    "def gff_to_df(gff, type=None):\n",
    "  headers = ['seqid', 'source', 'type', 'start', 'end', 'score', 'strand', 'phase', 'attributes']\n",
    "  gff_df = pd.read_csv(gff, sep='\\t', names=headers, comment='#')\n",
    "  if type:\n",
    "    gff_df = gff_df.query('type == @type')\n",
    "  gff_df['ID'] = gff_df.apply(attributes_to_column, axis=1, args=('ID',))\n",
    "  gff_df['Parent'] = gff_df.apply(attributes_to_column, axis=1, args=('Parent',))\n",
    "  gff_df['length'] = gff_df['end'] - gff_df['start'] + 1\n",
    "  return gff_df\n",
    "\n",
    "def get_stats(gff_df):\n",
    "  introns_df = gff_df.query('type == \"intron\"')\n",
    "  trans_df = gff_df.query('type == \"mRNA\"')\n",
    "  exon_df = gff_df.query('type == \"exon\"')\n",
    "\n",
    "  # intron lengths\n",
    "  intron_lengths = introns_df['length']\n",
    "\n",
    "  # intron counts\n",
    "  trans_with_introns = introns_df['Parent'].nunique()\n",
    "  introns_per_trans = introns_df.groupby('Parent')['type'].count()\n",
    "  single_exon_trans = set(trans_df['ID']) - set(introns_per_trans.index)\n",
    "  single_exon_trans_introns = pd.Series(0, index=single_exon_trans)\n",
    "  introns_per_trans = pd.concat([introns_per_trans, single_exon_trans_introns])\n",
    "    \n",
    "  # intron fractions\n",
    "  intron_len_per_trans = introns_df.groupby('Parent')['length'].sum()\n",
    "  single_exon_trans_introns_len = pd.Series(0, index=single_exon_trans)\n",
    "  intron_len_per_trans = pd.concat([intron_len_per_trans, single_exon_trans_introns_len])\n",
    "  intron_len_per_trans.name = 'length'\n",
    "  trans_len = trans_df['length']\n",
    "  trans_len.index = trans_df['ID']\n",
    "  trans_len.name = 'transcript_length'\n",
    "  intron_len_per_trans = pd.concat([intron_len_per_trans, trans_len], axis=1)\n",
    "  intron_len_per_trans['intron_fraction'] = intron_len_per_trans['length']/intron_len_per_trans['transcript_length']\n",
    "  intron_len_per_trans['exons_length'] = intron_len_per_trans['transcript_length'] - intron_len_per_trans['length']\n",
    "  intron_len_per_trans['intron_ratio'] = intron_len_per_trans['length']/intron_len_per_trans['exons_length']\n",
    "\n",
    "  return np.log10(intron_lengths), introns_per_trans, intron_len_per_trans['intron_ratio']"
   ]
  },
  {
   "cell_type": "code",
   "execution_count": null,
   "id": "f2bf0ada-1078-448e-9fa1-9bff8029c4dd",
   "metadata": {},
   "outputs": [],
   "source": [
    "stats = {}\n",
    "for sp_full, sp in zip(represent_spec_full[::-1], represent_spec[::-1]):\n",
    "    gff = os.path.join(per_species_dir, sp_full, 'annotation.canon.introns.gff3')\n",
    "    gff_df = gff_to_df(gff)\n",
    "    stats[sp] = get_stats(gff_df)"
   ]
  },
  {
   "cell_type": "code",
   "execution_count": null,
   "id": "f27ac1fa-7bd7-4e63-8fbe-b989704bd4b3",
   "metadata": {},
   "outputs": [],
   "source": [
    "# generate intron ratio distributions for representative species\n",
    "fig = make_subplots(rows=1, cols=3,\n",
    "                    shared_yaxes=True,\n",
    "                   horizontal_spacing=0.02,\n",
    "                   subplot_titles=['<b>a</b>','<b>b</b>','<b>c</b>'])\n",
    "i = 0\n",
    "max_len = 0\n",
    "for sp_full, sp in zip(represent_spec_full[::-1], represent_spec[::-1]):\n",
    "    intron_lengths, introns_per_trans, intron_ratios = stats[sp]\n",
    "    \n",
    "    phy = gene_structure_stats_df.loc[sp]['phylum']\n",
    "    sp_name = sp.replace('_',' ')\n",
    "    sp_name = f\"<i>{sp_name[0].upper()}{sp_name[1:]}</i> ({phy})\"\n",
    "    fig.add_trace(go.Violin(x=intron_ratios.loc[intron_ratios <= 50], name=sp_name, line_color=template_colors[6-i]), row=1, col=1)\n",
    "    fig.add_trace(go.Violin(x=intron_lengths, name=sp_name, line_color=template_colors[6-i]), row=1, col=2)\n",
    "    fig.add_trace(go.Violin(x=introns_per_trans.loc[introns_per_trans <= 50], name=sp_name, line_color=template_colors[6-i]), row=1, col=3)\n",
    "    i += 1\n",
    "\n",
    "fig.update_traces(orientation='h', side='positive', width=3, points=False)\n",
    "fig.update_layout(xaxis_showgrid=False, xaxis_zeroline=False, height=600, width=1000,\n",
    "                  showlegend=False,\n",
    "                )\n",
    "\n",
    "fig['layout']['xaxis']['title'] = 'Intron ratio'\n",
    "fig['layout']['xaxis2']['title'] = 'Intron length (log<sub>10</sub> bp)'\n",
    "fig['layout']['xaxis3']['title'] = 'Number of introns'\n",
    "fig.update_yaxes(tickfont={'size': 14}, ticks='')\n",
    "fig.update_xaxes(tickfont={'size': 14}, titlefont={'size': 16})\n",
    "fig.update_annotations(font_size=18, y=1.05)   # subplot titles\n",
    "\n",
    "fig.show()    "
   ]
  },
  {
   "cell_type": "code",
   "execution_count": null,
   "id": "6a2cd244-ffc4-4686-91bb-96724b42a268",
   "metadata": {},
   "outputs": [],
   "source": [
    "fig_name = 'fig_1'\n",
    "fig_path = os.path.join(figures_dir, fig_name + '.jpg')\n",
    "fig.write_image(fig_path, scale=5)\n",
    "fig_path = os.path.join(figures_dir, fig_name + '.pdf')\n",
    "fig.write_image(fig_path, scale=5)"
   ]
  },
  {
   "cell_type": "markdown",
   "id": "37afabf4-7f54-4e80-81b8-fc5949942369",
   "metadata": {},
   "source": [
    "## Gene structure feature means\n",
    "Per-species means of various features for whole genomes."
   ]
  },
  {
   "cell_type": "code",
   "execution_count": null,
   "id": "093abd65-bb7f-43c1-9ab2-5c8b0860a9d4",
   "metadata": {},
   "outputs": [],
   "source": [
    "fig = make_subplots(rows=2, cols=6,\n",
    "                    shared_yaxes=True,\n",
    "                   horizontal_spacing=0.02, vertical_spacing=0.25,\n",
    "                    specs=[\n",
    "        [{'colspan': 2}, None, {'colspan': 2}, None, {'colspan': 2},None],\n",
    "        [None, {'colspan': 2}, None, {'colspan': 2}, None, None]\n",
    "          ],\n",
    "                    subplot_titles=['<b>a</b>','<b>b</b>','<b>c</b>','<b>d</b>','<b>e</b>']\n",
    "                   )\n",
    "                   \n",
    "\n",
    "\n",
    "def strip_trace(data, color, name):\n",
    "    return go.Box(x=data, name=name, boxpoints = 'all', pointpos = 0, marker = dict(color=color, size=3), line = dict(color= 'rgba(0,0,0,0)'), fillcolor='rgba(0,0,0,0)')\n",
    "\n",
    "features = ['log_Mean_intron_ratio', 'log_Mean_total_exon_length_per_transcript', 'log_Mean_total_intron_length_per_transcript',\n",
    "           'log_Mean', 'Mean_per_transcript']\n",
    "\n",
    "r = 1; c = 1\n",
    "for feat in features:\n",
    "    for phyl in phy_order[::-1]:\n",
    "        phyl_data = gene_structure_stats_phyla10_df.query('phylum == @phyl')\n",
    "        fig.add_trace(strip_trace(phyl_data[feat], phy_colors[phyl], phyl), row=r, col=c)\n",
    "    c += 2\n",
    "    if c > 6:\n",
    "        c = 2\n",
    "        r += 1\n",
    "\n",
    "fig.update_layout(height=600, width=1000, showlegend=False)\n",
    "fig['layout']['xaxis']['title'] = 'Intron ratio (log<sub>10</sub>)'\n",
    "fig['layout']['xaxis2']['title'] = 'Total exon length (log<sub>10</sub> bp)'\n",
    "fig['layout']['xaxis3']['title'] = 'Total intron length (log<sub>10</sub> bp)'\n",
    "fig['layout']['xaxis4']['title'] = 'Intron length (log<sub>10</sub> bp)'\n",
    "fig['layout']['xaxis5']['title'] = 'Number of introns'\n",
    "fig.update_yaxes(tickfont={'size': 14}, ticks='')\n",
    "fig.update_xaxes(tickfont={'size': 14}, titlefont={'size': 14})\n",
    "fig.update_annotations(font_size=18)   # subplot titles\n",
    "fig.for_each_annotation(lambda a: a.update(y=a.y+0.03))\n",
    "\n",
    "fig.show()"
   ]
  },
  {
   "cell_type": "code",
   "execution_count": null,
   "id": "da553d40-9ea9-47c7-b770-147975cc88fb",
   "metadata": {},
   "outputs": [],
   "source": [
    "fig_name = 'fig_2'\n",
    "fig_path = os.path.join(figures_dir, fig_name + '.jpg')\n",
    "fig.write_image(fig_path, scale=5)\n",
    "fig_path = os.path.join(figures_dir, fig_name + '.pdf')\n",
    "fig.write_image(fig_path, scale=5)"
   ]
  },
  {
   "cell_type": "markdown",
   "id": "d6f2848a-333d-4f5d-b0c5-e0ee742ddf1b",
   "metadata": {},
   "source": [
    "## Phylogenetic conservation\n",
    "Based on pairwise similarity between gene structure feature distributions, using the KS statistic as a measure."
   ]
  },
  {
   "cell_type": "code",
   "execution_count": null,
   "id": "97c8cec9-3048-4366-b922-9d9336caca5d",
   "metadata": {},
   "outputs": [],
   "source": [
    "def plot_ks_heatmap_with_tree_dist(ks_distance_matrix, title=''):      \n",
    "\n",
    "    # add tree distance below the diagonal\n",
    "    tree_distance_matrix = ks_distance_matrix.copy()\n",
    "    ks_distance_matrix_copy = ks_distance_matrix.copy()\n",
    "    for comb in combinations(ks_distance_matrix_copy.index, 2):\n",
    "        sp2, sp1 = comb\n",
    "        ks_distance_matrix_copy.loc[sp1,sp2] = np.nan\n",
    "        tree_distance_matrix.loc[sp2,sp1] = np.nan\n",
    "        tree_distance_matrix.loc[sp1,sp2] = euk_tree_phyla10.get_distance(sp1, sp2)/2\n",
    "    for sp in ks_distance_matrix_copy.index:\n",
    "        ks_distance_matrix_copy.loc[sp,sp] = np.nan\n",
    "        tree_distance_matrix.loc[sp,sp] = np.nan\n",
    "\n",
    "    # create figure\n",
    "    fig = px.imshow(ks_distance_matrix_copy, color_continuous_scale='RdBu_r', height=600, width=800)\n",
    "    fig.add_heatmap(z=tree_distance_matrix, colorscale='Greys', reversescale=True, zmin=0, zmax=1800)\n",
    "    fig.update_xaxes(showticklabels=False, tickmode=\"array\", tickvals=[], title_text='', visible=True)\n",
    "    fig.update_yaxes(showticklabels=False, tickmode=\"array\", tickvals=[], title_text='', visible=True)\n",
    "    fig.update_layout(coloraxis_colorbar_x=1, coloraxis_colorbar_title='KS<br>distance', legend_x=1.3)\n",
    "    fig.data[1].colorbar = dict(title='Divergence<br>time (Myr)', orientation='h', y=-0.15, x=0.45, len=1.15)\n",
    "\n",
    "    # add phyla color bars in figure margins\n",
    "    i = 0\n",
    "    for phy, c in zip(euk_tree_phyla10_counts.index, euk_tree_phyla10_counts):\n",
    "        fig.add_shape(type=\"line\",\n",
    "            x0=-15, y0=i, x1=-15, y1=i+c,\n",
    "                      line_color=phy_colors[phy],\n",
    "                      opacity=1, line_width=7\n",
    "        )\n",
    "        fig.add_shape(type=\"line\",\n",
    "            x0=i, y0=-15, x1=i+c, y1=-15,\n",
    "                      line_color=phy_colors[phy],\n",
    "                      opacity=1, line_width=7\n",
    "        )    \n",
    "        i += c\n",
    "\n",
    "    # add phyla legend\n",
    "    for phy in phy_order:\n",
    "        fig.add_scatter(x=[np.nan], y=[np.nan], mode='lines', name=phy, line_width=5, line_color=phy_colors[phy])\n",
    "        \n",
    "    fig.update_layout(title=title)\n",
    "    return fig"
   ]
  },
  {
   "cell_type": "code",
   "execution_count": null,
   "id": "a67098ab-d70e-40ab-bb71-d0de55e3a20f",
   "metadata": {},
   "outputs": [],
   "source": [
    "fig = plot_ks_heatmap_with_tree_dist(intron_ratio_ks_distance_matrix)\n",
    "fig.show()"
   ]
  },
  {
   "cell_type": "code",
   "execution_count": null,
   "id": "c6f66b03-9aef-4d72-ad65-4be2db577923",
   "metadata": {},
   "outputs": [],
   "source": [
    "fig_name = 'fig_4a'\n",
    "fig_path = os.path.join(figures_dir, fig_name + '.jpg')\n",
    "fig.write_image(fig_path, scale=5)\n",
    "fig_path = os.path.join(figures_dir, fig_name + '.pdf')\n",
    "fig.write_image(fig_path, scale=5)"
   ]
  },
  {
   "cell_type": "code",
   "execution_count": null,
   "id": "461b53da-cad1-420f-8f5e-1abfcc60b123",
   "metadata": {},
   "outputs": [],
   "source": [
    "fig = plot_ks_heatmap_with_tree_dist(intron_len_ks_distance_matrix)\n",
    "fig.show()"
   ]
  },
  {
   "cell_type": "code",
   "execution_count": null,
   "id": "c29805e0-680b-41c9-930d-ff715bebdff8",
   "metadata": {},
   "outputs": [],
   "source": [
    "fig_name = 'fig_S3a'\n",
    "fig_path = os.path.join(figures_dir, fig_name + '.jpg')\n",
    "fig.write_image(fig_path, scale=5)\n",
    "fig_path = os.path.join(figures_dir, fig_name + '.pdf')\n",
    "fig.write_image(fig_path, scale=5)"
   ]
  },
  {
   "cell_type": "code",
   "execution_count": null,
   "id": "8ca3c5f2-98cc-4ec4-b30a-87e9cb32e0da",
   "metadata": {},
   "outputs": [],
   "source": [
    "fig = plot_ks_heatmap_with_tree_dist(intron_count_ks_distance_matrix)\n",
    "fig.show()"
   ]
  },
  {
   "cell_type": "code",
   "execution_count": null,
   "id": "fceaf224-f99e-4dab-93c9-2dab476859e2",
   "metadata": {},
   "outputs": [],
   "source": [
    "fig_name = 'fig_S4a'\n",
    "fig_path = os.path.join(figures_dir, fig_name + '.jpg')\n",
    "fig.write_image(fig_path, scale=5)\n",
    "fig_path = os.path.join(figures_dir, fig_name + '.pdf')\n",
    "fig.write_image(fig_path, scale=5)"
   ]
  },
  {
   "cell_type": "markdown",
   "id": "64a49234-2e25-4ef1-b332-5f8bbe3e8670",
   "metadata": {},
   "source": [
    "## Evolutionary trajectories"
   ]
  },
  {
   "cell_type": "code",
   "execution_count": null,
   "id": "f0949301-3e94-4ea4-8e1d-93bec8148ca1",
   "metadata": {},
   "outputs": [],
   "source": [
    "def lin_eq(x1,y1,x2,y2):\n",
    "    m = (y2-y1)/(x2-x1)\n",
    "    b = y1 - m*x1\n",
    "    return lambda x: m*x+b\n",
    "\n",
    "def tree_to_intervals(tree, column, groups={}):   \n",
    "    \n",
    "    branches_iv = IntervalTree()\n",
    "\n",
    "    # find MRCAs of groups\n",
    "    group_mrcas = {}\n",
    "    for gr in groups:\n",
    "        group_mrcas[gr] = tree.get_common_ancestor(groups[gr])\n",
    "        \n",
    "    for node in tree.traverse():\n",
    "        if node.is_root():\n",
    "            continue\n",
    "        parent = node.up\n",
    "        node_height = node.get_distance(tree)\n",
    "        parent_height = parent.get_distance(tree)\n",
    "        if node_height == parent_height:\n",
    "            continue\n",
    "        if node.is_leaf():\n",
    "            sp = node.name\n",
    "            node_val = gene_structure_stats_phyla10_df.query('species == @sp')[column].iloc[0]\n",
    "        else:\n",
    "            node_val = float(node.name)\n",
    "        parent_val = float(parent.name)\n",
    "        branch_lin_eq = lin_eq(parent_height,parent_val,node_height,node_val)\n",
    "\n",
    "        # assign branch to group\n",
    "        #branch_group = 'NA'\n",
    "        branch_group = f'{parent_height}-{node_height}'\n",
    "        for gr in group_mrcas:\n",
    "            if parent == group_mrcas[gr] or parent in group_mrcas[gr]:\n",
    "                branch_group = gr\n",
    "                break\n",
    "        \n",
    "        branches_iv[parent_height:node_height] = {'group': branch_group, 'model': branch_lin_eq}\n",
    "    return branches_iv"
   ]
  },
  {
   "cell_type": "code",
   "execution_count": null,
   "id": "c60f051b-9b48-48dc-9adb-f13a11ee9b16",
   "metadata": {},
   "outputs": [],
   "source": [
    "def median_at_point(branches_iv, h):\n",
    "    branches = branches_iv[h]\n",
    "    values = {}\n",
    "    for b in branches:\n",
    "        br_group = b.data['group']\n",
    "        if br_group not in values:\n",
    "            values[br_group] = []\n",
    "        values[br_group].append(b.data['model'](h))\n",
    "        \n",
    "    for br_group in values:\n",
    "        values[br_group] = pd.Series(values[br_group]).median()\n",
    "        \n",
    "    return values"
   ]
  },
  {
   "cell_type": "code",
   "execution_count": null,
   "id": "d30823a3-3637-4885-a1b9-cd17eb186344",
   "metadata": {},
   "outputs": [],
   "source": [
    "phyla10_species = gene_structure_stats_phyla10_df.groupby(by='phylum', observed=True)['species'].apply(list).to_dict()\n",
    "for phyl in phyla10_species:\n",
    "    phyla10_species[phyl] = [s for s in phyla10_species[phyl] if s in euk_tree_phyla10]"
   ]
  },
  {
   "cell_type": "code",
   "execution_count": null,
   "id": "0a2677f5-d045-4984-b2cb-4252f1c62b4d",
   "metadata": {},
   "outputs": [],
   "source": [
    "tree_iv_intron_ratio = tree_to_intervals(euk_tree_phyla10_anc_intron_ratio, 'log_Mean_intron_ratio', phyla10_species)"
   ]
  },
  {
   "cell_type": "code",
   "execution_count": null,
   "id": "c60932c0-f006-4519-989a-c9234e880498",
   "metadata": {},
   "outputs": [],
   "source": [
    "res = []\n",
    "for h in np.arange(0,1600,5):\n",
    "    h_values = pd.DataFrame.from_dict(median_at_point(tree_iv_intron_ratio, h), orient='index').reset_index()\n",
    "    h_values.columns = ['group','mean_at_height']\n",
    "    h_values['height'] = h\n",
    "    res.append(h_values)\n",
    "res = pd.concat(res)"
   ]
  },
  {
   "cell_type": "code",
   "execution_count": null,
   "id": "68ffe811-a0d1-4fde-b32d-e2de8b35292f",
   "metadata": {},
   "outputs": [],
   "source": [
    "fig = px.line(res, x='height', y='mean_at_height', color='group')\n",
    "for trace in fig.data:\n",
    "    if trace.name in phy_colors:\n",
    "        trace.line['color'] = phy_colors[trace.name]\n",
    "    else:\n",
    "        trace.line['color'] = 'black'\n",
    "        trace.showlegend = False\n",
    "fig.update_xaxes(title='Time since LECA (Myr)')\n",
    "fig.update_yaxes(title='Intron ratio (log<sub>10</sub>)')\n",
    "fig.update_layout(legend_title_text='', plot_bgcolor = \"rgba(0,0,0,0)\", paper_bgcolor = \"rgba(0,0,0,0)\")\n",
    "        \n",
    "fig.show()"
   ]
  },
  {
   "cell_type": "code",
   "execution_count": null,
   "id": "a31fd4b5-b961-4e63-a42d-c2abbf878a2f",
   "metadata": {
    "scrolled": true
   },
   "outputs": [],
   "source": [
    "fig_name = 'fig_3b'\n",
    "fig_path = os.path.join(figures_dir, fig_name + '.jpg')\n",
    "fig.write_image(fig_path, scale=5)\n",
    "fig_path = os.path.join(figures_dir, fig_name + '.pdf')\n",
    "fig.write_image(fig_path, scale=5)"
   ]
  },
  {
   "cell_type": "code",
   "execution_count": null,
   "id": "527aecbe-e7a6-4103-a422-f422d9bc9be6",
   "metadata": {},
   "outputs": [],
   "source": [
    "tree_iv_intron_length = tree_to_intervals(euk_tree_phyla10_anc_intron_length, 'log_Mean', phyla10_species)\n",
    "\n",
    "res = []\n",
    "for h in np.arange(0,1600,5):\n",
    "    h_values = pd.DataFrame.from_dict(median_at_point(tree_iv_intron_length, h), orient='index').reset_index()\n",
    "    h_values.columns = ['group','mean_at_height']\n",
    "    h_values['height'] = h\n",
    "    res.append(h_values)\n",
    "res = pd.concat(res)\n",
    "\n",
    "fig = px.line(res, x='height', y='mean_at_height', color='group')\n",
    "for trace in fig.data:\n",
    "    if trace.name in phy_colors:\n",
    "        trace.line['color'] = phy_colors[trace.name]\n",
    "    else:\n",
    "        trace.line['color'] = 'black'\n",
    "        trace.showlegend = False\n",
    "fig.update_xaxes(title='Time since LECA (Myr)')\n",
    "fig.update_yaxes(title='Intron length (log<sub>10</sub> bp)')\n",
    "fig.update_layout(legend_title_text='', plot_bgcolor = \"rgba(0,0,0,0)\", paper_bgcolor = \"rgba(0,0,0,0)\")\n",
    "        \n",
    "fig.show()"
   ]
  },
  {
   "cell_type": "code",
   "execution_count": null,
   "id": "a6d59432-034f-48d1-9327-38a0b583000b",
   "metadata": {},
   "outputs": [],
   "source": [
    "fig_name = 'fig_S1b'\n",
    "fig_path = os.path.join(figures_dir, fig_name + '.jpg')\n",
    "fig.write_image(fig_path, scale=5)\n",
    "fig_path = os.path.join(figures_dir, fig_name + '.pdf')\n",
    "fig.write_image(fig_path, scale=5)"
   ]
  },
  {
   "cell_type": "code",
   "execution_count": null,
   "id": "6d5940d7-510b-498b-accc-acd701a9e8b0",
   "metadata": {},
   "outputs": [],
   "source": [
    "tree_iv_n_introns = tree_to_intervals(euk_tree_phyla10_anc_n_introns, 'Mean_per_transcript', phyla10_species)\n",
    "\n",
    "res = []\n",
    "for h in np.arange(0,1600,5):\n",
    "    h_values = pd.DataFrame.from_dict(median_at_point(tree_iv_n_introns, h), orient='index').reset_index()\n",
    "    h_values.columns = ['group','mean_at_height']\n",
    "    h_values['height'] = h\n",
    "    res.append(h_values)\n",
    "res = pd.concat(res)\n",
    "\n",
    "fig = px.line(res, x='height', y='mean_at_height', color='group')\n",
    "for trace in fig.data:\n",
    "    if trace.name in phy_colors:\n",
    "        trace.line['color'] = phy_colors[trace.name]\n",
    "    else:\n",
    "        trace.line['color'] = 'black'\n",
    "        trace.showlegend = False\n",
    "fig.update_xaxes(title='Time since LECA (Myr)')\n",
    "fig.update_yaxes(title='Number of introns')\n",
    "fig.update_layout(legend_title_text='', plot_bgcolor = \"rgba(0,0,0,0)\", paper_bgcolor = \"rgba(0,0,0,0)\")\n",
    "        \n",
    "fig.show()"
   ]
  },
  {
   "cell_type": "code",
   "execution_count": null,
   "id": "99e82010-9796-4cf0-9e7a-410abe0ef9e3",
   "metadata": {},
   "outputs": [],
   "source": [
    "fig_name = 'fig_S2b'\n",
    "fig_path = os.path.join(figures_dir, fig_name + '.jpg')\n",
    "fig.write_image(fig_path, scale=5)\n",
    "fig_path = os.path.join(figures_dir, fig_name + '.pdf')\n",
    "fig.write_image(fig_path, scale=5)"
   ]
  },
  {
   "cell_type": "markdown",
   "id": "b8dbad6f-a071-4133-b27f-fae73a7c4b3b",
   "metadata": {},
   "source": [
    "## Intron length and Genome size"
   ]
  },
  {
   "cell_type": "code",
   "execution_count": null,
   "id": "1af692fd-ef5c-439c-ba7e-f6b6f9379034",
   "metadata": {},
   "outputs": [],
   "source": [
    "pgls_tsv = 'genome_size_intron_length_PGLS.tsv'\n",
    "pgls_df = pd.read_csv(pgls_tsv, sep='\\t', index_col=0)"
   ]
  },
  {
   "cell_type": "code",
   "execution_count": null,
   "id": "64d70393-2f76-4525-ba27-10e207576517",
   "metadata": {},
   "outputs": [],
   "source": [
    "pgls_df"
   ]
  },
  {
   "cell_type": "code",
   "execution_count": null,
   "id": "4ae16a65-6c50-440e-a14c-772c194752da",
   "metadata": {},
   "outputs": [],
   "source": [
    "def abline(intercept, slope, data, color):\n",
    "    x_min = data.min()-0.5\n",
    "    x_max = data.max()+0.5\n",
    "    x = [x_min, x_max]\n",
    "    y = [intercept + p*slope for p in x]\n",
    "    return go.Scatter(x=x, y=y, mode='lines', line_color=color, line_width=3, showlegend=False)"
   ]
  },
  {
   "cell_type": "code",
   "execution_count": null,
   "id": "3eddac84-177b-4c1d-a8d5-a549a2bf104a",
   "metadata": {},
   "outputs": [],
   "source": [
    "pgls_intron_len_df = pgls_df.iloc[:,0:5]\n",
    "pgls_intron_len_df"
   ]
  },
  {
   "cell_type": "code",
   "execution_count": null,
   "id": "2ce849ba-1997-4e12-8972-f8199761e70a",
   "metadata": {},
   "outputs": [],
   "source": [
    "fig = px.scatter(gene_structure_stats_phyla10_df, x='log_Genome_size', y='log_Mean', color='phylum', color_discrete_map=phy_colors,\n",
    "                height=500, width=800)\n",
    "fig.update_xaxes(range=(6.5,10.5), title='Genome size (log<sub>10</sub> bp)')\n",
    "fig.update_yaxes(title='Mean intron length (log<sub>10</sub> bp)')\n",
    "\n",
    "# add PGLS model lines\n",
    "for row in pgls_df.iterrows():\n",
    "    if row[1]['p slope log_Mean'] > 0.05:\n",
    "        continue\n",
    "    slope = row[1]['slope log_Mean']\n",
    "    if row[1]['p intercept log_Mean'] > 0.05:\n",
    "        intercept = 0\n",
    "    else:\n",
    "        intercept = row[1]['intercept log_Mean']\n",
    "    phylum = row[0]\n",
    "    color = phy_colors[phylum]\n",
    "    phyl_data = gene_structure_stats_phyla10_df.query('phylum == @phylum')['log_Genome_size']\n",
    "    fig.add_trace(abline(intercept, slope, phyl_data, color))\n",
    "\n",
    "fig.show()"
   ]
  },
  {
   "cell_type": "code",
   "execution_count": null,
   "id": "31661228-f964-46c7-b5c0-a3b5d0dd7bcb",
   "metadata": {},
   "outputs": [],
   "source": [
    "fig_name = 'fig_6'\n",
    "fig_path = os.path.join(figures_dir, fig_name + '.jpg')\n",
    "fig.write_image(fig_path, scale=5)\n",
    "fig_path = os.path.join(figures_dir, fig_name + '.pdf')\n",
    "fig.write_image(fig_path, scale=5)"
   ]
  },
  {
   "cell_type": "code",
   "execution_count": null,
   "id": "6ebee018-3c69-44e9-854d-014719bf0f2e",
   "metadata": {},
   "outputs": [],
   "source": [
    "pgls_intron_ratio_df = pgls_df.iloc[:,10:]\n",
    "pgls_intron_ratio_df"
   ]
  },
  {
   "cell_type": "code",
   "execution_count": null,
   "id": "3c9a1654-75b8-4aaf-b725-a34eaa549fe9",
   "metadata": {},
   "outputs": [],
   "source": [
    "fig = px.scatter(gene_structure_stats_phyla10_df, x='log_Genome_size', y='log_Mean_intron_ratio', color='phylum', color_discrete_map=phy_colors,\n",
    "                height=500, width=800)\n",
    "fig.update_xaxes(range=(6.5,10.5), title='log<sub>10</sub> Genome size (bp)')\n",
    "fig.update_yaxes(title='log<sub>10</sub> Mean intron ratio')\n",
    "\n",
    "# add PGLS model lines\n",
    "for row in pgls_df.iterrows():\n",
    "    if row[1]['p slope Mean_intron_ratio_log'] > 0.05:\n",
    "        continue\n",
    "    slope = row[1]['slope Mean_intron_ratio_log']\n",
    "    if row[1]['p intercept Mean_intron_ratio_log'] > 0.05:\n",
    "        intercept = 0\n",
    "    else:\n",
    "        intercept = row[1]['intercept Mean_intron_ratio_log']\n",
    "    phylum = row[0]\n",
    "    color = phy_colors[phylum]\n",
    "    phyl_data = gene_structure_stats_phyla10_df.query('phylum == @phylum')['log_Genome_size']\n",
    "    fig.add_trace(abline(intercept, slope, phyl_data, color))\n",
    "\n",
    "fig.show()"
   ]
  },
  {
   "cell_type": "code",
   "execution_count": null,
   "id": "c72d4795-08d3-4d28-83da-0ae1c7966e95",
   "metadata": {},
   "outputs": [],
   "source": [
    "fig_name = 'fig_S5'\n",
    "fig_path = os.path.join(figures_dir, fig_name + '.jpg')\n",
    "fig.write_image(fig_path, scale=5)\n",
    "fig_path = os.path.join(figures_dir, fig_name + '.pdf')\n",
    "fig.write_image(fig_path, scale=5)"
   ]
  },
  {
   "cell_type": "markdown",
   "id": "4af9c95a-14e9-4e16-aeb2-03bf81647275",
   "metadata": {},
   "source": [
    "## BUSCO analysis\n",
    "Analyzing orthology groups based on BUSCOs"
   ]
  },
  {
   "cell_type": "code",
   "execution_count": null,
   "id": "9e0d623f-bbc4-4491-8ca7-70ad9cb8b911",
   "metadata": {},
   "outputs": [],
   "source": [
    "classes = ['Mammalia', 'Aves', 'Lepidosauria', 'Actinopteri', 'Insecta', 'Arachnida', 'Sordariomycetes', 'Magnoliopsida']"
   ]
  },
  {
   "cell_type": "markdown",
   "id": "622b6b16-dd10-46be-b2eb-b442b5077ba7",
   "metadata": {},
   "source": [
    "### Load evolutionary change data"
   ]
  },
  {
   "cell_type": "code",
   "execution_count": null,
   "id": "100cc42d-8936-4494-85ea-27aab0b76e0b",
   "metadata": {},
   "outputs": [],
   "source": [
    "def load_change_tsv(class_name):\n",
    "    change_tsv = os.path.join(all_species_dir, f'{class_name}_change.tsv')\n",
    "    change_df = pd.read_csv(change_tsv, sep='\\t', index_col=0).dropna()\n",
    "    change_df['Total_sequence_change_norm'] = change_df['Total_sequence_change']/change_df['Total_tree_length']\n",
    "    change_df['Total_gene_structure_change_norm'] = change_df['Total_gene_structure_change']/change_df['Total_tree_length']\n",
    "    change_df['Total_sequence_change_norm_bin'] = pd.cut(change_df['Total_sequence_change_norm'], bins=10, labels=False)\n",
    "    change_df['Total_sequence_change_norm_rank'] = change_df['Total_sequence_change_norm'].rank()\n",
    "    change_df['Total_gene_structure_change_norm_rank'] = change_df['Total_gene_structure_change_norm'].rank()\n",
    "    return change_df"
   ]
  },
  {
   "cell_type": "code",
   "execution_count": null,
   "id": "820d8fa7-a8d6-4f1d-ac6e-93759c5a6120",
   "metadata": {},
   "outputs": [],
   "source": [
    "class_change_data = {class_name: load_change_tsv(class_name) for class_name in classes}"
   ]
  },
  {
   "cell_type": "markdown",
   "id": "23cb5c44-9e14-4835-8568-8d2dff839005",
   "metadata": {},
   "source": [
    "### Correlation between sequence and gene structure evolution\n",
    "Per class"
   ]
  },
  {
   "cell_type": "code",
   "execution_count": null,
   "id": "bd041061-d278-4504-a656-8d31dd661371",
   "metadata": {},
   "outputs": [],
   "source": [
    "def mad(s):\n",
    "    s = s.dropna()\n",
    "    return scipy.stats.median_abs_deviation(s.values)\n",
    "\n",
    "def mad_outliers(s, x=3):\n",
    "    smed = s.median()\n",
    "    smad = mad(s)\n",
    "    lower = smed - x*smad\n",
    "    upper = smed + x*smad\n",
    "    return (s < lower) | (s > upper)\n",
    "\n",
    "def filter_mad_outliers(group_df, column):\n",
    "    s = group_df[column]\n",
    "    mad_outliers_filter = mad_outliers(s, x=10)\n",
    "    return group_df.loc[~mad_outliers_filter]"
   ]
  },
  {
   "cell_type": "code",
   "execution_count": null,
   "id": "9885e89d-8084-45c0-a103-62fd989e395e",
   "metadata": {},
   "outputs": [],
   "source": [
    "colors = px.colors.qualitative.Plotly\n",
    "fig = go.Figure()\n",
    "c = 0\n",
    "for class_name, class_change_df in class_change_data.items():\n",
    "    # divide sequence conservation into 10 bins\n",
    "    class_change_df['Total_sequence_change_norm_rank_bin'] = pd.cut(class_change_df['Total_sequence_change_norm_rank'], bins=10, labels=False)\n",
    "    class_change_df['Total_sequence_change_norm_rank_bin'] += 1\n",
    "    # remove MAD outliers per bin\n",
    "    class_change_df = class_change_df.groupby('Total_sequence_change_norm_rank_bin').apply(filter_mad_outliers, column = 'Total_gene_structure_change_norm')\n",
    "    class_change_df.index = class_change_df.index.droplevel()\n",
    "    # calculate mean and STE per bin\n",
    "    bin_means = class_change_df[['Total_gene_structure_change_norm', 'Total_sequence_change_norm_rank_bin']].groupby('Total_sequence_change_norm_rank_bin').agg(\n",
    "    mean=('Total_gene_structure_change_norm', 'mean'),\n",
    "    stderr=('Total_gene_structure_change_norm', 'sem')\n",
    ")\n",
    "    bin_means['bin'] = bin_means.index\n",
    "    \n",
    "    class_color = colors[c]\n",
    "    c += 1\n",
    "    fig.add_scatter(x=bin_means['bin'], y=bin_means['mean'],\n",
    "                error_y={'type':'data', 'array':bin_means['stderr'], 'visible':True},\n",
    "                    name=class_name, marker_color=class_color\n",
    "                )\n",
    "fig.update_xaxes(title=\"Protein Sequence Evolutionary Rate\", range=(0.5,10.5), tickvals=list(range(1,11)))\n",
    "fig.update_yaxes(title=\"Gene structure<br>Evolutionary Rate\")\n",
    "fig.update_layout(height=500)\n",
    "fig.show()"
   ]
  },
  {
   "cell_type": "code",
   "execution_count": null,
   "id": "5cf5f2ea-a83d-4af8-a692-df7b6bf63b70",
   "metadata": {},
   "outputs": [],
   "source": [
    "fig_name = 'fig_5a'\n",
    "fig_path = os.path.join(figures_dir, fig_name + '.jpg')\n",
    "fig.write_image(fig_path, scale=5)\n",
    "fig_path = os.path.join(figures_dir, fig_name + '.pdf')\n",
    "fig.write_image(fig_path, scale=5)"
   ]
  },
  {
   "cell_type": "markdown",
   "id": "d9c1583a-f437-475d-9f66-7624e32424fd",
   "metadata": {},
   "source": [
    "### Correlation between conservation ranks between classes\n",
    "For all class pairs, compute the correlations of sequence and gene structure conservation ranks"
   ]
  },
  {
   "cell_type": "code",
   "execution_count": null,
   "id": "5dc52fd7-8f67-4c94-b0d5-c2f75eb607b4",
   "metadata": {},
   "outputs": [],
   "source": [
    "class_pair_corr_df = pd.DataFrame(np.nan, index=classes, columns=classes)"
   ]
  },
  {
   "cell_type": "code",
   "execution_count": null,
   "id": "4f06d916-13c6-4160-83a6-ea36e9e99628",
   "metadata": {},
   "outputs": [],
   "source": [
    "class_pairs = list(combinations(classes,2))\n",
    "for class_pair in class_pairs:\n",
    "    class1 = class_pair[0]\n",
    "    class2 = class_pair[1]\n",
    "    # gene structure\n",
    "    class1_score = class_change_data[class1]['Total_gene_structure_change_norm']\n",
    "    class2_score = class_change_data[class2]['Total_gene_structure_change_norm']\n",
    "    score_df = pd.concat([class1_score, class2_score], axis=1, join='inner')\n",
    "    rank_df = score_df.apply(lambda c: c.rank())\n",
    "    x = rank_df.iloc[:,0]\n",
    "    y = rank_df.iloc[:,1]\n",
    "    r2 = round(scipy.stats.pearsonr(x,y).statistic**2,2)\n",
    "    class_pair_corr_df.loc[class1, class2] = r2\n",
    "    # sequence\n",
    "    class1_score = class_change_data[class1]['Total_sequence_change_norm']\n",
    "    class2_score = class_change_data[class2]['Total_sequence_change_norm']\n",
    "    score_df = pd.concat([class1_score, class2_score], axis=1, join='inner')\n",
    "    rank_df = score_df.apply(lambda c: c.rank())\n",
    "    x = rank_df.iloc[:,0]\n",
    "    y = rank_df.iloc[:,1]\n",
    "    r2 = round(scipy.stats.pearsonr(x,y).statistic**2,2)\n",
    "    class_pair_corr_df.loc[class2, class1] = r2"
   ]
  },
  {
   "cell_type": "code",
   "execution_count": null,
   "id": "e7f6df84-0415-4d37-bdaf-188c68d50659",
   "metadata": {},
   "outputs": [],
   "source": [
    "# Under diagonal - sequence; above diagonal - gene structure\n",
    "\n",
    "fig = px.imshow(class_pair_corr_df, text_auto=True, height=600, width=600)\n",
    "\n",
    "fig.update_layout(shapes=[\n",
    "    {'type': 'path', 'path': 'M -0.7 -0.7 L 7.7 7.7 L -0.7 7.7 Z', 'fillcolor': 'rgba(0,0,0,0)', 'line_color': 'red', 'line_width': 3, 'opacity': 0.6},\n",
    "    {'type': 'path', 'path': 'M -0.7 -0.7 L 7.7 -0.7 L 7.7 7.7 Z', 'fillcolor': 'rgba(0,0,0,0)', 'line_color': 'orange', 'line_width': 3, 'opacity': 0.6},\n",
    "    {'type': 'path', 'path': 'M -0.7 -0.7 L 7.7 7.7 L', 'line_color': 'black', 'line_width': 3, 'opacity': 1}\n",
    "])\n",
    "fig.update_layout(coloraxis_colorbar=dict(title=\"R<sup>2</sup>\"))\n",
    "fig.show()"
   ]
  },
  {
   "cell_type": "code",
   "execution_count": null,
   "id": "904e1319-e0d7-4cda-b448-0237f91b0fd3",
   "metadata": {},
   "outputs": [],
   "source": [
    "fig_name = 'fig_5b'\n",
    "fig_path = os.path.join(figures_dir, fig_name + '.jpg')\n",
    "fig.write_image(fig_path, scale=5)\n",
    "fig_path = os.path.join(figures_dir, fig_name + '.pdf')\n",
    "fig.write_image(fig_path, scale=5)"
   ]
  },
  {
   "cell_type": "code",
   "execution_count": null,
   "id": "9044fd1b-5088-42f7-9221-6bf6643245d2",
   "metadata": {},
   "outputs": [],
   "source": [
    "table_s6_list = []\n",
    "for class_name, class_data in class_change_data.items():\n",
    "    class_data['Class'] = class_name\n",
    "    table_s6_list.append(class_data)\n",
    "table_s6 = pd.concat(table_s6_list)"
   ]
  },
  {
   "cell_type": "code",
   "execution_count": null,
   "id": "989f1e2b-2b6e-4585-9dbd-328c7644ef08",
   "metadata": {},
   "outputs": [],
   "source": [
    "table_s6 = table_s6[['Class', 'Total_tree_length', 'Total_sequence_change',\n",
    "       'Total_gene_structure_change', 'Total_sequence_change_norm',\n",
    "       'Total_gene_structure_change_norm']]\n",
    "table_s6.index.name = 'BUSCO ID'"
   ]
  },
  {
   "cell_type": "code",
   "execution_count": null,
   "id": "cc738194-5517-4ebb-a228-0b48316f8d47",
   "metadata": {},
   "outputs": [],
   "source": [
    "table_s6.to_csv('../data/BUSCO_change_stats.tsv', sep='\\t')"
   ]
  }
 ],
 "metadata": {
  "kernelspec": {
   "display_name": "Python 3 (ipykernel)",
   "language": "python",
   "name": "python3"
  },
  "language_info": {
   "codemirror_mode": {
    "name": "ipython",
    "version": 3
   },
   "file_extension": ".py",
   "mimetype": "text/x-python",
   "name": "python",
   "nbconvert_exporter": "python",
   "pygments_lexer": "ipython3",
   "version": "3.10.13"
  }
 },
 "nbformat": 4,
 "nbformat_minor": 5
}
