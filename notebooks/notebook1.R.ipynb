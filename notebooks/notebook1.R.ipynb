{
 "cells": [
  {
   "cell_type": "markdown",
   "id": "2060c02a-86f2-430f-8d98-8f4048b31307",
   "metadata": {},
   "source": [
    "# Evolutionary analysis of gene structure\n",
    "This notebooks contains evolutionary analyses from the manuscripts \"_Phylogenetic Analysis of 590 Species Reveals Distinctive Evolutionary Patterns of Intron-Exon Gene Structures Across Eukaryotic Lineages_\" by Glick et al.. It can be used for results reproducibility.  \n",
    "See further details regarding the analyses and methods in the manuscript, and visit the [project Github](https://github.com/MayroseLab/gene_structure_evolution) for more technical details on running the analysis."
   ]
  },
  {
   "cell_type": "code",
   "execution_count": null,
   "id": "c562d9b5-b163-49fe-b3d9-c62a31a59c44",
   "metadata": {},
   "outputs": [],
   "source": [
    "library(ape)\n",
    "library(phytools)\n",
    "library(RRphylo)\n",
    "library(dplyr)"
   ]
  },
  {
   "cell_type": "code",
   "execution_count": null,
   "id": "d431d171-cba5-49d9-8b3d-260b505e3543",
   "metadata": {},
   "outputs": [],
   "source": [
    "figures_dir = '../fig'"
   ]
  },
  {
   "cell_type": "markdown",
   "id": "9ecf316d-23bf-4102-8bf2-54224fd8935f",
   "metadata": {},
   "source": [
    "## Load and pre-process data"
   ]
  },
  {
   "cell_type": "markdown",
   "id": "229eb5f9-458f-4af1-98d8-6442ea906ad3",
   "metadata": {},
   "source": [
    "### Data paths\n",
    "__Important__: complete the path in `snakemake_result_dir` before running"
   ]
  },
  {
   "cell_type": "code",
   "execution_count": null,
   "id": "e95eba9e-0e2c-46ef-a952-762d7d7bada2",
   "metadata": {},
   "outputs": [],
   "source": [
    "euk_tree_nwk = \"../data/euk_species_tree.nwk\"\n",
    "snakemake_result_dir = \"</PATH/TO/DIR>\"\n",
    "gene_structure_stats_tsv = file.path(snakemake_result_dir, 'all_species/intron_lengths.stats')\n",
    "intron_ratio_distance_tree_nwk = file.path(snakemake_result_dir, 'all_species/intron_ratios_KS_dist.nwk')\n",
    "intron_length_distance_tree_nwk = file.path(snakemake_result_dir, 'all_species/intron_lengths_KS_dist.nwk')\n",
    "intron_count_distance_tree_nwk = file.path(snakemake_result_dir, 'all_species/intron_counts_KS_dist.nwk')"
   ]
  },
  {
   "cell_type": "markdown",
   "id": "279076da-9807-4669-9858-d4279c290d0f",
   "metadata": {},
   "source": [
    "### Eukaryotes phylogeny"
   ]
  },
  {
   "cell_type": "code",
   "execution_count": null,
   "id": "d29d4b39-90fd-4445-bf47-b2a8cfab3b76",
   "metadata": {},
   "outputs": [],
   "source": [
    "euk_tree = read.tree(euk_tree_nwk)\n",
    "euk_tree"
   ]
  },
  {
   "cell_type": "code",
   "execution_count": null,
   "id": "58848b34-5ba0-4e17-8017-cfd9526156fa",
   "metadata": {},
   "outputs": [],
   "source": [
    "# replace branches with length < 1 Myr with polytomies\n",
    "euk_tree = di2multi(euk_tree, tol=1)"
   ]
  },
  {
   "cell_type": "code",
   "execution_count": null,
   "id": "d9ceb971-09ae-4f55-8c9d-10e18ee1e61f",
   "metadata": {
    "tags": []
   },
   "outputs": [],
   "source": [
    "# Remove terminal branches shorter than 1M years\n",
    "THRESHOLD = 1\n",
    "\n",
    "tip.label.to.node.num = function(tree,label){\n",
    "    return(which(tree$tip.label == label))\n",
    "}\n",
    "\n",
    "get_tips = function(node){\n",
    "    tips = names(tip_parents[which(tip_parents == node)])\n",
    "}\n",
    "\n",
    "get.branch.len = function(tree, node){\n",
    "    return(tree$edge.length[which(tree$edge[,2]==node)])\n",
    "}\n",
    "\n",
    "terminal_branch_len = c(-Inf)\n",
    "while (any(terminal_branch_len < THRESHOLD)){\n",
    "    # find the node numbers at the tips\n",
    "    tip_node_num = sapply(euk_tree$tip.label, tip.label.to.node.num, tree=euk_tree)\n",
    "    # find parent nodes of tips\n",
    "    tip_parents = sapply(tip_node_num, getParent, tree=euk_tree)\n",
    "    # get the children for each tip parent\n",
    "    tip_parents = sapply(as.character(unique(tip_parents)), get_tips)\n",
    "    # get terminal branch lengths\n",
    "    #terminal_branch_len = sapply(names(tip_parents), get.branch.len, tree=euk_tree)\n",
    "    terminal_branch_len = setNames(euk_tree$edge.length[sapply(tip_node_num,\n",
    "    function(x,y) which(y==x),y=euk_tree$edge[,2])],names(tip_node_num))\n",
    "    to_drop = c()\n",
    "    for (parent in names(tip_parents)){\n",
    "        #if (terminal_branch_len[[parent]] < THRESHOLD){\n",
    "        if (terminal_branch_len[tip_parents[[parent]][1]] < THRESHOLD){\n",
    "            to_drop = c(to_drop, tip_parents[[parent]][1])\n",
    "        }\n",
    "        else if (length(tip_parents[[parent]]) == 2 & terminal_branch_len[tip_parents[[parent]][2]] < THRESHOLD){\n",
    "            to_drop = c(to_drop, tip_parents[[parent]][2])\n",
    "        }\n",
    "    }\n",
    "    euk_tree = ape::drop.tip(euk_tree, to_drop)\n",
    "}"
   ]
  },
  {
   "cell_type": "code",
   "execution_count": null,
   "id": "5caa4e63-4dfc-420f-a08a-1cc0f0bc4991",
   "metadata": {},
   "outputs": [],
   "source": [
    "euk_tree"
   ]
  },
  {
   "cell_type": "markdown",
   "id": "79e21b23-cccd-4cfd-bdb9-b1ccbcc9851a",
   "metadata": {},
   "source": [
    "### Gene structure stats"
   ]
  },
  {
   "cell_type": "code",
   "execution_count": null,
   "id": "a3f33861-0823-44ec-b593-dab9399471d7",
   "metadata": {},
   "outputs": [],
   "source": [
    "gene_structure_stats_df = read.table(gene_structure_stats_tsv, sep='\\t', header = TRUE)\n",
    "gene_structure_stats_df = gene_structure_stats_df[gene_structure_stats_df$Dataset == 'all',]\n",
    "rownames(gene_structure_stats_df) = gene_structure_stats_df[,1]\n",
    "# log10 transformations\n",
    "gene_structure_stats_df$log_Mean = log10(gene_structure_stats_df$Mean)\n",
    "gene_structure_stats_df$Mean_intron_ratio_log = log10(gene_structure_stats_df$Mean_intron_ratio)"
   ]
  },
  {
   "cell_type": "code",
   "execution_count": null,
   "id": "c279499a-37de-445c-bb1e-4deb63e677df",
   "metadata": {},
   "outputs": [],
   "source": [
    "# simplify to binomial species names (genus_species)\n",
    "spec_list = strsplit(rownames(gene_structure_stats_df), '_')\n",
    "simplify = function(v){\n",
    "    return(paste(v[1], v[2], sep='_'))\n",
    "}\n",
    "\n",
    "gene_structure_stats_df$species = unlist(lapply(spec_list, simplify))"
   ]
  },
  {
   "cell_type": "code",
   "execution_count": null,
   "id": "0458fc4b-6fc7-485d-990c-0488b3ab2df8",
   "metadata": {},
   "outputs": [],
   "source": [
    "# add kingdom\n",
    "mapping = c('metazoa' = 'Animalia', 'vertebrates' = 'Animalia', 'plants' = 'Plantae', 'protists' = 'Protista', 'fungi' = 'Fungi')\n",
    "gene_structure_stats_df$kingdom = mapping[gene_structure_stats_df$group]\n",
    "# fix some mis-classifications in ENSEMBL\n",
    "gene_structure_stats_df[gene_structure_stats_df$phylum == \"Oomycota\", 'kingdom'] = 'Protista'"
   ]
  },
  {
   "cell_type": "code",
   "execution_count": null,
   "id": "e4305edc-0ab9-4cb0-99f9-144f92e984ea",
   "metadata": {},
   "outputs": [],
   "source": [
    "# remove species with no introns\n",
    "gene_structure_stats_df = gene_structure_stats_df[gene_structure_stats_df$Mean_intron_ratio > 0,]"
   ]
  },
  {
   "cell_type": "code",
   "execution_count": null,
   "id": "07e189c4-d3bd-40d6-831f-bd8b60f462de",
   "metadata": {},
   "outputs": [],
   "source": [
    "tree_species = euk_tree$tip.label\n",
    "data_species = gene_structure_stats_df$species"
   ]
  },
  {
   "cell_type": "code",
   "execution_count": null,
   "id": "cf9d7a80-c850-4803-9f25-a94817d0a7ed",
   "metadata": {
    "tags": []
   },
   "outputs": [],
   "source": [
    "# remove species not in the species tree\n",
    "gene_structure_stats_df = gene_structure_stats_df[gene_structure_stats_df$species %in% euk_tree$tip.label,]\n",
    "# remove tree tips missing from stats table\n",
    "euk_tree = drop.tip(euk_tree, setdiff(tree_species, data_species))"
   ]
  },
  {
   "cell_type": "code",
   "execution_count": null,
   "id": "d8ad1498-7f92-424c-a87b-76eb5d2945b4",
   "metadata": {},
   "outputs": [],
   "source": [
    "tree_species = euk_tree$tip.label\n",
    "data_species = gene_structure_stats_df$species"
   ]
  },
  {
   "cell_type": "code",
   "execution_count": null,
   "id": "245ef576-05a1-4404-a3f9-b5141cec0eb9",
   "metadata": {},
   "outputs": [],
   "source": [
    "# make sure tree and table species all match (should return empty)\n",
    "setdiff(tree_species, data_species)\n",
    "setdiff(data_species, tree_species)"
   ]
  },
  {
   "cell_type": "markdown",
   "id": "9a273d86-d3d6-4f92-b246-24e64f1643e1",
   "metadata": {},
   "source": [
    "### Remove phyla with <10 species\n",
    "from stats and from tree"
   ]
  },
  {
   "cell_type": "code",
   "execution_count": null,
   "id": "2dbfeabe-4507-421f-a089-e75084a9b347",
   "metadata": {},
   "outputs": [],
   "source": [
    "# Find which phyla have at least 10 species\n",
    "species_by_phylum = as.data.frame(table(gene_structure_stats_df$phylum))\n",
    "species_by_phylum[species_by_phylum$Freq >= 10,]"
   ]
  },
  {
   "cell_type": "code",
   "execution_count": null,
   "id": "4f42a41e-14d2-4d46-a46b-b0c27b5f2cbc",
   "metadata": {},
   "outputs": [],
   "source": [
    "# list of phyla with >=10 species and corresponding list of species\n",
    "phyla10 = species_by_phylum[species_by_phylum$Freq >= 10,'Var1']\n",
    "phyla10_species = gene_structure_stats_df[gene_structure_stats_df$phylum %in% phyla10,'species']"
   ]
  },
  {
   "cell_type": "code",
   "execution_count": null,
   "id": "4f3d691a-f245-4f61-862b-e6dd5c4236bb",
   "metadata": {},
   "outputs": [],
   "source": [
    "# create tree containing only species from phyla with >=10 species\n",
    "euk_tree_phyla10 = drop.tip(euk_tree,euk_tree$tip.label[-match(phyla10_species, euk_tree$tip.label)])"
   ]
  },
  {
   "cell_type": "code",
   "execution_count": null,
   "id": "6af4fcb4-b539-49f3-a5e9-db527cd6806f",
   "metadata": {},
   "outputs": [],
   "source": [
    "euk_tree_phyla10"
   ]
  },
  {
   "cell_type": "code",
   "execution_count": null,
   "id": "2415d5d5-4303-4dc6-b6cc-baaf53332163",
   "metadata": {},
   "outputs": [],
   "source": [
    "write.tree(euk_tree_phyla10, \"../data/euk_species_tree_phyla10.nwk\")"
   ]
  },
  {
   "cell_type": "code",
   "execution_count": null,
   "id": "edbec7fc-1370-4789-96bb-3e8f7fa53720",
   "metadata": {},
   "outputs": [],
   "source": [
    "# check if the remaining phyla are monophyletic\n",
    "for (phyl in phyla10){\n",
    "    phyl_species = gene_structure_stats_df[gene_structure_stats_df$phylum == phyl,]$species\n",
    "    phyl_mono = is.monophyletic(euk_tree_phyla10, phyl_species)\n",
    "    print(paste0(phyl, ' is monophyletic: ', phyl_mono))\n",
    "}"
   ]
  },
  {
   "cell_type": "code",
   "execution_count": null,
   "id": "7ce47059-427d-4483-95f0-e2c2d25f6783",
   "metadata": {
    "tags": []
   },
   "outputs": [],
   "source": [
    "gene_structure_stats_phyla10_df = gene_structure_stats_df[gene_structure_stats_df$species %in% phyla10_species,]"
   ]
  },
  {
   "cell_type": "markdown",
   "id": "7e7108b9-223b-4ddc-96c2-8050854a266a",
   "metadata": {},
   "source": [
    "## Test for differences among kingdoms and phyla\n",
    "Analyze several key gene structure features to determine the differences between kingdoms and phyla. The analysis steps are:\n",
    "1. Run RRphylo to determine per-branch rates\n",
    "2. Rescale the phylogeny according to inferred rates, thereby accounting for rate heterogenity and avoiding an oversimplifies BM model\n",
    "3. Perform phylogenetic ANOVA test using rescaled tree"
   ]
  },
  {
   "cell_type": "code",
   "execution_count": null,
   "id": "42fe8df1-12a9-4a4b-af2f-921d309eeae3",
   "metadata": {},
   "outputs": [],
   "source": [
    "species_kingdom = gene_structure_stats_df$kingdom\n",
    "names(species_kingdom) = gene_structure_stats_df$species\n",
    "\n",
    "species_phylum = gene_structure_stats_df$phylum\n",
    "names(species_phylum) = gene_structure_stats_df$species\n",
    "\n",
    "phyla10_species_phylum = gene_structure_stats_phyla10_df$phylum\n",
    "names(phyla10_species_phylum) = gene_structure_stats_phyla10_df$species"
   ]
  },
  {
   "cell_type": "code",
   "execution_count": null,
   "id": "fbdd3f92-b367-43ad-973f-d0c26004405c",
   "metadata": {},
   "outputs": [],
   "source": [
    "# perform RRphylo and phylogenetic ANOVA on a data set\n",
    "# the function takes a feature name and whether or not it needs to be log10 transformed\n",
    "analyze_feature = function(feature, transform=NULL){\n",
    "    species_data = gene_structure_stats_df[[feature]]\n",
    "    if (! is.null(transform)){\n",
    "        species_data = sapply(species_data, transform)\n",
    "    }\n",
    "    names(species_data) = gene_structure_stats_df$species\n",
    "    rrphylo = RRphylo(tree = euk_tree, y = species_data)\n",
    "    rescaled_tree = rescaleRR(euk_tree, RR=rrphylo)\n",
    "    # subset tree and data for phyla with >10 species\n",
    "    rescaled_tree_phyla10 = drop.tip(rescaled_tree,rescaled_tree$tip.label[-match(phyla10_species, rescaled_tree$tip.label)])\n",
    "    species_data_phyla10 = species_data[phyla10_species]\n",
    "    # phylogenetic ANOVA\n",
    "    # kingdoms\n",
    "    set.seed(100)\n",
    "    phyl_anova_kingdom = phylANOVA(rescaled_tree, species_kingdom, species_data)\n",
    "    # phyla\n",
    "    set.seed(100)\n",
    "    phyl_anova = phylANOVA(rescaled_tree_phyla10, phyla10_species_phylum, species_data_phyla10)\n",
    "    # phyla using BM\n",
    "    set.seed(100)\n",
    "    phyl_anova_bm = phylANOVA(euk_tree_phyla10, phyla10_species_phylum, species_data_phyla10)\n",
    "    # Add inferred ancestral states as node labels\n",
    "    rrphylo$tree$node.label = round(rrphylo$aces[,1], digits=2)\n",
    "    # prepare RRphylo plots\n",
    "    rrphylo_plot = plotRR(rrphylo, species_data)\n",
    "    return (list(data=species_data, rrphylo=rrphylo, phyl_ANOVA_kingdom=phyl_anova_kingdom, phyl_ANOVA=phyl_anova, phyl_ANOVA_BM=phyl_anova_bm, rrphylo_plot=rrphylo_plot))\n",
    "}"
   ]
  },
  {
   "cell_type": "markdown",
   "id": "c3645988-ca05-4510-8a88-f090cfe0bee2",
   "metadata": {},
   "source": [
    "#### Mean intron ratio\n",
    "log10 transformed"
   ]
  },
  {
   "cell_type": "code",
   "execution_count": null,
   "id": "c3b67543-940a-4699-b816-bfccff55e20f",
   "metadata": {},
   "outputs": [],
   "source": [
    "intron_ratio_res = analyze_feature('Mean_intron_ratio', log10)"
   ]
  },
  {
   "cell_type": "code",
   "execution_count": null,
   "id": "5043a83a-a086-40c4-8578-c791e330be14",
   "metadata": {},
   "outputs": [],
   "source": [
    "intron_ratio_res$phyl_ANOVA_kingdom$Pf"
   ]
  },
  {
   "cell_type": "code",
   "execution_count": null,
   "id": "dbcb66bd-bc98-4635-a375-6b4ea47ac178",
   "metadata": {},
   "outputs": [],
   "source": [
    "intron_ratio_res$phyl_ANOVA$Pf"
   ]
  },
  {
   "cell_type": "markdown",
   "id": "88d42577-80d4-49a6-b840-faa49430433c",
   "metadata": {},
   "source": [
    "#### Mean total exon/intron length per transcript\n",
    "log10 transformed"
   ]
  },
  {
   "cell_type": "code",
   "execution_count": null,
   "id": "030fb678-ae32-4d4e-bed9-f0c7ef726bfe",
   "metadata": {},
   "outputs": [],
   "source": [
    "tot_exon_length_res = analyze_feature('Mean_total_exon_length_per_transcript', log10)\n",
    "tot_exon_length_res$phyl_ANOVA$Pf"
   ]
  },
  {
   "cell_type": "code",
   "execution_count": null,
   "id": "5156586e-cc07-4622-8615-392e634e27c0",
   "metadata": {},
   "outputs": [],
   "source": [
    "tot_intron_length_res = analyze_feature('Mean_total_intron_length_per_transcript', log10)\n",
    "tot_intron_length_res$phyl_ANOVA$Pf"
   ]
  },
  {
   "cell_type": "markdown",
   "id": "511580ae-5e6a-451a-9ee1-b33010206ca7",
   "metadata": {},
   "source": [
    "#### Mean intron length"
   ]
  },
  {
   "cell_type": "code",
   "execution_count": null,
   "id": "802ed905-dd9f-4a67-85b7-021040ac6735",
   "metadata": {},
   "outputs": [],
   "source": [
    "mean_intron_length_res = analyze_feature('Mean', log10)"
   ]
  },
  {
   "cell_type": "code",
   "execution_count": null,
   "id": "ce6747eb-f7dd-468b-8713-b93d0d899871",
   "metadata": {},
   "outputs": [],
   "source": [
    "mean_intron_length_res$phyl_ANOVA_kingdom$Pf"
   ]
  },
  {
   "cell_type": "code",
   "execution_count": null,
   "id": "8396005a-8a03-4bbc-8d24-a9209fd509b7",
   "metadata": {},
   "outputs": [],
   "source": [
    "mean_intron_length_res$phyl_ANOVA$Pf"
   ]
  },
  {
   "cell_type": "code",
   "execution_count": null,
   "id": "c0068161-b03e-40c5-8d14-87110b87ddec",
   "metadata": {},
   "outputs": [],
   "source": [
    "mean_intron_length_res$phyl_ANOVA$Pt"
   ]
  },
  {
   "cell_type": "markdown",
   "id": "8fd38cca-7773-4c9e-95af-8b0ed42cead3",
   "metadata": {},
   "source": [
    "#### Mean number of introns"
   ]
  },
  {
   "cell_type": "code",
   "execution_count": null,
   "id": "c62a0a97-46af-4fc5-ad76-240253a44dcf",
   "metadata": {},
   "outputs": [],
   "source": [
    "mean_intron_count_res = analyze_feature('Mean_per_transcript')"
   ]
  },
  {
   "cell_type": "code",
   "execution_count": null,
   "id": "20386e34-2e1b-41c0-a212-fd2b785d8d91",
   "metadata": {},
   "outputs": [],
   "source": [
    "mean_intron_count_res$phyl_ANOVA_kingdom$Pf"
   ]
  },
  {
   "cell_type": "code",
   "execution_count": null,
   "id": "b08d3d53-1ef0-4dab-bfc0-c3b412eaa67e",
   "metadata": {},
   "outputs": [],
   "source": [
    "mean_intron_count_res$phyl_ANOVA$Pf"
   ]
  },
  {
   "cell_type": "code",
   "execution_count": null,
   "id": "ca1e8a9a-8bd0-4d38-9c45-ab4f01a829c2",
   "metadata": {},
   "outputs": [],
   "source": [
    "mean_intron_count_res$phyl_ANOVA$Pt"
   ]
  },
  {
   "cell_type": "markdown",
   "id": "927b95d4-ae20-49f4-884e-3360d16a4538",
   "metadata": {},
   "source": [
    "## Ancestral states at lineage MRCAs\n",
    "Find the inferred ancestral states for key gene structure features at the MRCAs of phyla.  \n",
    "Also calculate 95% confidence intervals."
   ]
  },
  {
   "cell_type": "code",
   "execution_count": null,
   "id": "2fefb045-37fc-408c-aef5-5e771aa2c1a6",
   "metadata": {},
   "outputs": [],
   "source": [
    "get.group.MRCAs = function(tree, column='phylum', min_species=10){\n",
    "    # gets the MRCA nodes for all groups of a given level,\n",
    "    # e.g. phyla, kingdoms...\n",
    "    group_mrcas = c()\n",
    "    group_names = c()\n",
    "    for (gr in unique(gene_structure_stats_df[[column]])){\n",
    "        gr_species = gene_structure_stats_df[gene_structure_stats_df[[column]] == gr,]$species\n",
    "        gr_species = gr_species[gr_species %in% tree$tip.label]\n",
    "        if (length(gr_species) >= min_species){\n",
    "            gr_mrca = findMRCA(tree, gr_species)\n",
    "            group_mrcas = c(group_mrcas, gr_mrca)\n",
    "            group_names = c(group_names, gr)\n",
    "        }\n",
    "    }\n",
    "    names(group_mrcas) = group_names\n",
    "    return(group_mrcas)\n",
    "}"
   ]
  },
  {
   "cell_type": "raw",
   "id": "d3b004ba-7da0-4207-a536-14c8b40e9848",
   "metadata": {},
   "source": [
    "get.root.node = function(tree){\n",
    "    r = c(length(tree$tip.label)+1)\n",
    "    names(r) = c('LECA')\n",
    "    return(r)\n",
    "}"
   ]
  },
  {
   "cell_type": "code",
   "execution_count": null,
   "id": "15acf185-8a86-4a1b-bf1b-d7fd243d4950",
   "metadata": {},
   "outputs": [],
   "source": [
    "CI95 = function(x){\n",
    "    x = x[!is.na(x)]\n",
    "    return(c(mean=mean(x), quantile(x, 0.025), quantile(x, 0.975)))\n",
    "}"
   ]
  },
  {
   "cell_type": "code",
   "execution_count": null,
   "id": "f17139b2-4a33-40d3-816c-86a075e5ba71",
   "metadata": {},
   "outputs": [],
   "source": [
    "create_dataframe_from_vectors <- function(vectors) {\n",
    "  # get a list of vectors with different lengths and\n",
    "  # names order, and make a DF. (Thanks, chatGPT...)\n",
    "\n",
    "  # Get all unique names across all vectors\n",
    "  all_names <- unique(unlist(lapply(vectors, names)))\n",
    "  \n",
    "  # Function to pad a vector with NA for missing names\n",
    "  pad_vector <- function(vec, all_names) {\n",
    "    # Create a named vector with NA values for all names\n",
    "    padded_vec <- setNames(rep(NA, length(all_names)), all_names)\n",
    "    # Fill in the existing values from the input vector\n",
    "    padded_vec[names(vec)] <- vec\n",
    "    return(padded_vec)\n",
    "  }\n",
    "  # Pad all vectors\n",
    "  padded_vectors <- lapply(vectors, pad_vector, all_names = all_names)\n",
    "  \n",
    "  # Combine the padded vectors into a data frame\n",
    "  df <- do.call(rbind, padded_vectors)\n",
    "  \n",
    "  return(as.data.frame(df))\n",
    "}"
   ]
  },
  {
   "cell_type": "code",
   "execution_count": null,
   "id": "1d3fa0cf-48cf-4555-8cd5-22707407b31e",
   "metadata": {},
   "outputs": [],
   "source": [
    "get.group.MRCA.CI = function(ofrr, species, min_lambda=0.9, min_sim=100){\n",
    "    valid_sims = ofrr$RR.list[sapply(ofrr$RR.list, function(rr) rr$lambda > min_lambda)]\n",
    "    if (length(valid_sims) < min_sim){\n",
    "        print('Not enough valid simulations')\n",
    "        return()\n",
    "    }\n",
    "    sim_group_mrcas_aces = c()\n",
    "    for (sim in valid_sims){\n",
    "        sim_species = species[species %in% sim$tree$tip.label]\n",
    "        mrca = findMRCA(sim$tree, sim_species)\n",
    "        group_mrcas_aces = sim$aces[as.character(mrca),]\n",
    "        sim_group_mrcas_aces = c(sim_group_mrcas_aces, group_mrcas_aces)\n",
    "    }\n",
    "    return(CI95(sim_group_mrcas_aces))\n",
    "}"
   ]
  },
  {
   "cell_type": "code",
   "execution_count": null,
   "id": "df7a6983-eaf6-4eda-891e-5cfdfc007785",
   "metadata": {},
   "outputs": [],
   "source": [
    "create_mrca_table = function(ofrr, groups){\n",
    "    res = list()\n",
    "    for (i in seq_along(groups)){\n",
    "        name = names(groups)[i]\n",
    "        species = groups[[i]]\n",
    "        gr_res = get.group.MRCA.CI(ofrr, species)\n",
    "        res[[name]] = gr_res\n",
    "    }\n",
    "    res_df = do.call(rbind, lapply(res, function(x) as.data.frame(t(x))))\n",
    "    return(res_df)\n",
    "}"
   ]
  },
  {
   "cell_type": "code",
   "execution_count": null,
   "id": "29f1c829-dbd9-4949-aeb2-2c2277ca065b",
   "metadata": {},
   "outputs": [],
   "source": [
    "NSIM = 200"
   ]
  },
  {
   "cell_type": "code",
   "execution_count": null,
   "id": "6244f2c9-34f3-4ed1-a800-46b391534e95",
   "metadata": {},
   "outputs": [],
   "source": [
    "# define groups of species for which we'll infer the MRCA states\n",
    "eukaryota = gene_structure_stats_df$species\n",
    "\n",
    "opisthokonta = gene_structure_stats_df[gene_structure_stats_df$kingdom %in% c('Animalia','Fungi'), 'species']\n",
    "diaphoretickes = gene_structure_stats_df[gene_structure_stats_df$kingdom %in% c('Plantae','Protista'), 'species']\n",
    "\n",
    "animalia = gene_structure_stats_df[gene_structure_stats_df$kingdom == 'Animalia', 'species']\n",
    "fungi = gene_structure_stats_df[gene_structure_stats_df$kingdom == 'Fungi', 'species']\n",
    "plantae =  gene_structure_stats_df[gene_structure_stats_df$kingdom == 'Plantae', 'species']\n",
    "\n",
    "streptophyta  = gene_structure_stats_df[gene_structure_stats_df$phylum == 'Streptophyta', 'species']\n",
    "ascomycota = gene_structure_stats_df[gene_structure_stats_df$phylum == 'Ascomycota', 'species']\n",
    "nematoda = gene_structure_stats_df[gene_structure_stats_df$phylum == 'Nematoda', 'species']\n",
    "cnidaria = gene_structure_stats_df[gene_structure_stats_df$phylum == 'Cnidaria', 'species']\n",
    "mollusca = gene_structure_stats_df[gene_structure_stats_df$phylum == 'Mollusca', 'species']\n",
    "arthropoda = gene_structure_stats_df[gene_structure_stats_df$phylum == 'Arthropoda', 'species']\n",
    "chordata = gene_structure_stats_df[gene_structure_stats_df$phylum == 'Chordata', 'species']\n",
    "\n",
    "groups = list(eukaryota, opisthokonta, diaphoretickes, animalia, fungi, plantae, streptophyta, ascomycota,\n",
    "             nematoda, cnidaria, mollusca, arthropoda, chordata)\n",
    "names(groups) = c('Eukaryota', 'Opisthokonta', 'Diaphoretickes', 'Animalia', 'Fungi', 'Plantae',\n",
    "                  'Streptophyta', 'Ascomycota', 'Nematoda', 'Cnidaria', 'Mollusca', 'Arthropoda', 'Chordata')"
   ]
  },
  {
   "cell_type": "markdown",
   "id": "eb6206e9-d3ef-49b3-96c6-a9183cd73435",
   "metadata": {},
   "source": [
    "The following cell takes pretty long to run - change to \"code\" if you wish to run it, or just load as RData (below)."
   ]
  },
  {
   "cell_type": "raw",
   "id": "13fbe41e-5293-4e94-bafe-6ee0ca0f20e0",
   "metadata": {},
   "source": [
    "# intron ratio\n",
    "phyl_mrcas = get.group.MRCAs(intron_ratio_res$rrphylo$tree, column='phylum')\n",
    "mrca_mean_ratio_ofrr = overfitRR(intron_ratio_res$rrphylo, y=intron_ratio_res$data, nsim=NSIM, s=0.2, swap.args=list(si=0.1, si2=0.1,node=phyl_mrcas), clus=0)\n",
    "\n",
    "# intron length\n",
    "phyl_mrcas = get.group.MRCAs(mean_intron_length_res$rrphylo$tree, column='phylum')\n",
    "mrca_mean_len_ofrr = overfitRR(mean_intron_length_res$rrphylo, y=mean_intron_length_res$data, nsim=NSIM, s=0.2, swap.args=list(si=0.1, si2=0.1,node=phyl_mrcas), clus=0)\n",
    "\n",
    "# intron count\n",
    "phyl_mrcas = get.group.MRCAs(mean_intron_count_res$rrphylo$tree, column='phylum')\n",
    "mrca_mean_count_ofrr = overfitRR(mean_intron_count_res$rrphylo, y=mean_intron_count_res$data, nsim=NSIM, s=0.2, swap.args=list(si=0.1, si2=0.1,node=phyl_mrcas), clus=0)"
   ]
  },
  {
   "cell_type": "code",
   "execution_count": null,
   "id": "37862117-01eb-4259-9dca-e1a30e960d3c",
   "metadata": {},
   "outputs": [],
   "source": [
    "load('ofrr.RData')"
   ]
  },
  {
   "cell_type": "code",
   "execution_count": null,
   "id": "0f430f51-36b9-4772-8bec-43a9ffbd7280",
   "metadata": {},
   "outputs": [],
   "source": [
    "group_colors = list()\n",
    "\n",
    "group_colors$Eukaryota = 'black'\n",
    "group_colors$Opisthokonta = 'black'\n",
    "group_colors$Diaphoretickes = 'black'\n",
    "\n",
    "group_colors$Animalia = 'purple'\n",
    "group_colors$Plantae = 'darkgreen'\n",
    "group_colors$Fungi = 'brown'\n",
    "\n",
    "group_colors$Chordata = '#1F77B4'\n",
    "group_colors$Arthropoda = '#FF7F0E'\n",
    "group_colors$Mollusca = '#2CA02C'\n",
    "group_colors$Cnidaria = '#D62728'\n",
    "group_colors$Nematoda = '#9467BD'\n",
    "group_colors$Ascomycota = '#8C564B'\n",
    "group_colors$Streptophyta = '#E377C2'"
   ]
  },
  {
   "cell_type": "code",
   "execution_count": null,
   "id": "8c7f23dd-be53-4903-aa0b-d69026d6ec77",
   "metadata": {},
   "outputs": [],
   "source": [
    "make_rrphylo_plot = function(rrphylo_res, states_df, title){\n",
    "    # initialize\n",
    "    options(repr.plot.width=30, repr.plot.height=60)\n",
    "    par(mar = c(2,2,2,2))\n",
    "    color_pal = colorRampPalette(c(\"gold\", \"darkorchid\"))\n",
    "    tree_args = list(edge.width=5, no.margin=FALSE)\n",
    "    colorbar_args = list(direction='horizontal',x=2,y=-4, height=0.5,width=1.5,border=NA,title.pos='bottom',labs.cex=2,title=title,title.cex=3,title.adj=c(0.5,-5))\n",
    "    \n",
    "    # Plot colored tree\n",
    "    rrphylo_res$rrphylo_plot$plotRRphen(colorbar.args = colorbar_args, color.pal=color_pal, tree.args=tree_args)\n",
    "    \n",
    "    # Add MRCA labels and phyla boundaries\n",
    "    for (gr in names(groups)){\n",
    "        species = groups[[gr]]\n",
    "        gr_mrca = findMRCA(tree = rrphylo_res$rrphylo$tree, tips = species)\n",
    "        mean = round(states_df[gr,'mean'], digits=2)\n",
    "        color = group_colors[[gr]]\n",
    "        nodelabels(node = gr_mrca, pch=21, col=color, bg=color, cex=6)\n",
    "        nodelabels(node = gr_mrca, text=paste(gr, mean, sep='\\n'), adj=c(1.1,-0.25), col=color, frame='none', cex=4)\n",
    "    \n",
    "        if (gr %in% phyla10){\n",
    "            tips<-getDescendants(rrphylo_res$rrphylo$tree, gr_mrca)\n",
    "            tips<-tips[tips<=Ntip(rrphylo_res$rrphylo$tree)]\n",
    "            pp = get(\"last_plot.phylo\", envir = .PlotPhyloEnv)\n",
    "            y<-range(pp$yy[tips])\n",
    "            lines(x=c(1620,1620), y=c(y[1],y[2]), lwd=20, col=color)\n",
    "        }\n",
    "    }\n",
    "}"
   ]
  },
  {
   "cell_type": "markdown",
   "id": "5336b396-a8d7-47c3-8f4c-d9836cc3d1fd",
   "metadata": {},
   "source": [
    "### Mean intron ratio\n",
    "(log10)"
   ]
  },
  {
   "cell_type": "code",
   "execution_count": null,
   "id": "e3100d65-518c-413c-8d81-f90662d7faf9",
   "metadata": {},
   "outputs": [],
   "source": [
    "mrca_mean_ratio_df = create_mrca_table(mrca_mean_ratio_ofrr, groups)\n",
    "10**mrca_mean_ratio_df"
   ]
  },
  {
   "cell_type": "code",
   "execution_count": null,
   "id": "43ce8d1c-0f67-4e75-84e8-31689522247c",
   "metadata": {},
   "outputs": [],
   "source": [
    "make_rrphylo_plot(intron_ratio_res, mrca_mean_ratio_df, 'Mean intron ratio (log10)')"
   ]
  },
  {
   "cell_type": "code",
   "execution_count": null,
   "id": "e1253473-a7e1-4bf6-b885-f35de6e0bc9f",
   "metadata": {},
   "outputs": [],
   "source": [
    "fig_name = 'fig_3a'\n",
    "fig_path = file.path(figures_dir, paste0(fig_name,'.pdf'))\n",
    "pdf(fig_path, width=30, height=60)\n",
    "make_rrphylo_plot(intron_ratio_res, mrca_mean_ratio_df, 'Mean intron ratio (log10)')\n",
    "dev.off()"
   ]
  },
  {
   "cell_type": "markdown",
   "id": "051ab8e2-1424-4dc5-9a2e-52fbbcc3e2d3",
   "metadata": {},
   "source": [
    "### Mean intron length\n",
    "(log10)"
   ]
  },
  {
   "cell_type": "code",
   "execution_count": null,
   "id": "b8a14f36-4e82-4007-8877-703054a2441d",
   "metadata": {},
   "outputs": [],
   "source": [
    "mrca_mean_len_df = create_mrca_table(mrca_mean_len_ofrr, groups)\n",
    "10**mrca_mean_len_df"
   ]
  },
  {
   "cell_type": "code",
   "execution_count": null,
   "id": "16a332a5-9e38-4890-be1e-014b205d7822",
   "metadata": {},
   "outputs": [],
   "source": [
    "make_rrphylo_plot(mean_intron_length_res, mrca_mean_len_df, 'Mean intron length (log10 bp)')"
   ]
  },
  {
   "cell_type": "code",
   "execution_count": null,
   "id": "1020b5a5-cd14-40bf-a77e-6d146d27e435",
   "metadata": {},
   "outputs": [],
   "source": [
    "fig_name = 'fig_s1a'\n",
    "fig_path = file.path(figures_dir, paste0(fig_name,'.pdf'))\n",
    "pdf(fig_path, width=30, height=60)\n",
    "make_rrphylo_plot(mean_intron_length_res, mrca_mean_len_df, 'Mean intron length (log10 bp)')\n",
    "dev.off()"
   ]
  },
  {
   "cell_type": "markdown",
   "id": "6e512903-d2f8-49b7-b6e8-486ff30d78d9",
   "metadata": {},
   "source": [
    "### Mean intron count"
   ]
  },
  {
   "cell_type": "code",
   "execution_count": null,
   "id": "7579166c-23ba-4c0b-b68e-d90a36e35186",
   "metadata": {},
   "outputs": [],
   "source": [
    "mrca_mean_count_df = create_mrca_table(mrca_mean_count_ofrr, groups)\n",
    "mrca_mean_count_df"
   ]
  },
  {
   "cell_type": "code",
   "execution_count": null,
   "id": "f4cc4042-a64d-40b3-bcb1-f6061b4de0e0",
   "metadata": {},
   "outputs": [],
   "source": [
    "make_rrphylo_plot(mean_intron_count_res, mrca_mean_count_df, 'Mean number of introns')"
   ]
  },
  {
   "cell_type": "code",
   "execution_count": null,
   "id": "8696599a-5680-4cb9-9500-6cf5a4ab29de",
   "metadata": {},
   "outputs": [],
   "source": [
    "fig_name = 'fig_s2a'\n",
    "fig_path = file.path(figures_dir, paste0(fig_name,'.pdf'))\n",
    "pdf(fig_path, width=30, height=60)\n",
    "make_rrphylo_plot(mean_intron_count_res, mrca_mean_count_df, 'Mean number of introns')\n",
    "dev.off()"
   ]
  },
  {
   "cell_type": "markdown",
   "id": "12e4a5ee-1e11-4855-aafa-6de7b2f889da",
   "metadata": {},
   "source": [
    "## Modeling gene structure\n",
    "PGLS models of gene structure across species."
   ]
  },
  {
   "cell_type": "code",
   "execution_count": null,
   "id": "d90aabd5-1393-460d-ba16-73c4bbb730ad",
   "metadata": {},
   "outputs": [],
   "source": [
    "# log-transform total exon and intron length\n",
    "rownames(gene_structure_stats_df) = gene_structure_stats_df$species\n",
    "gene_structure_stats_df$Mean_total_exon_length_per_transcript_log = log10(gene_structure_stats_df$Mean_total_exon_length_per_transcript)\n",
    "gene_structure_stats_df$Mean_total_intron_length_per_transcript_log = log10(gene_structure_stats_df$Mean_total_intron_length_per_transcript)"
   ]
  },
  {
   "cell_type": "markdown",
   "id": "e945b1e9-9086-4337-a998-b3e5c682ea5e",
   "metadata": {},
   "source": [
    "### intron ratio"
   ]
  },
  {
   "cell_type": "code",
   "execution_count": null,
   "id": "0e222f10-fb5c-4769-bffd-f1389d3305a9",
   "metadata": {},
   "outputs": [],
   "source": [
    "pgls = PGLS_fossil(modform= Mean_intron_ratio_log ~ Mean_total_intron_length_per_transcript_log, data=gene_structure_stats_df, RR=intron_ratio_res$rrphylo)\n",
    "summary(pgls)"
   ]
  },
  {
   "cell_type": "code",
   "execution_count": null,
   "id": "f631fd1c-a6ce-48d9-8017-f9cabc453e06",
   "metadata": {},
   "outputs": [],
   "source": [
    "pgls = PGLS_fossil(modform= Mean_intron_ratio_log ~ Mean_total_exon_length_per_transcript_log, data=gene_structure_stats_df, RR=intron_ratio_res$rrphylo)\n",
    "summary(pgls)"
   ]
  },
  {
   "cell_type": "code",
   "execution_count": null,
   "id": "7c96edf6-5bc4-4fdb-be4f-8f0babae93d7",
   "metadata": {},
   "outputs": [],
   "source": [
    "pgls = PGLS_fossil(modform= Mean_intron_ratio_log ~ Mean_total_exon_length_per_transcript_log + Mean_total_intron_length_per_transcript_log, data=gene_structure_stats_df, RR=intron_ratio_res$rrphylo)\n",
    "summary(pgls)"
   ]
  },
  {
   "cell_type": "markdown",
   "id": "4d13f148-6c71-4fca-a1fe-f2fa40fb7d94",
   "metadata": {},
   "source": [
    "#### Compare to simple BM"
   ]
  },
  {
   "cell_type": "code",
   "execution_count": null,
   "id": "35b8f70e-bce7-42b4-8b27-4ba98432b7e0",
   "metadata": {},
   "outputs": [],
   "source": [
    "pgls_bm = PGLS_fossil(modform= Mean_intron_ratio_log ~ Mean_total_exon_length_per_transcript_log + Mean_total_intron_length_per_transcript_log, data=gene_structure_stats_df, tree=intron_ratio_res$rrphylo$tree)"
   ]
  },
  {
   "cell_type": "code",
   "execution_count": null,
   "id": "292b4e2c-08ec-4153-97e9-b8eb2dbe2de1",
   "metadata": {},
   "outputs": [],
   "source": [
    "# delta AIC - with/without RRphylo scaling\n",
    "summary(pgls_bm)$aic - summary(pgls)$aic"
   ]
  },
  {
   "cell_type": "code",
   "execution_count": null,
   "id": "6592c0eb-7f17-4c07-9aed-49d83022693f",
   "metadata": {},
   "outputs": [],
   "source": [
    "summary(pgls_bm)$aic"
   ]
  },
  {
   "cell_type": "markdown",
   "id": "b9bca752-6f41-4d19-9d92-d8f4c9850a4d",
   "metadata": {},
   "source": [
    "#### Divide by kingdom\n",
    "Fit separate models to animals, fungi, and plants"
   ]
  },
  {
   "cell_type": "code",
   "execution_count": null,
   "id": "4821638a-e532-4666-a133-20d50abaf176",
   "metadata": {},
   "outputs": [],
   "source": [
    "animal_species = gene_structure_stats_df[gene_structure_stats_df$group %in% c('metazoa','vertebrates'), 'species']\n",
    "plant_species = gene_structure_stats_df[gene_structure_stats_df$group == 'plants', 'species']\n",
    "fungi_species = gene_structure_stats_df[gene_structure_stats_df$group == 'fungi', 'species']"
   ]
  },
  {
   "cell_type": "code",
   "execution_count": null,
   "id": "6e15ce7c-5ddf-4fcf-82b5-6bc9ba458ce7",
   "metadata": {},
   "outputs": [],
   "source": [
    "rrphylo_pgls = function(modform, species){\n",
    "    data_df = gene_structure_stats_df\n",
    "    rownames(data_df) = data_df$species\n",
    "    tree = keep.tip(euk_tree, species)\n",
    "    data_df = data_df[tree$tip.label,]\n",
    "    y = all.vars(modform)[1]\n",
    "    species_data = data_df[[y]]\n",
    "    names(species_data) = rownames(data_df)\n",
    "    rrphylo = RRphylo(tree = tree, y = species_data)\n",
    "    return(PGLS_fossil(modform=modform, data=data_df, RR=rrphylo))  \n",
    "}"
   ]
  },
  {
   "cell_type": "code",
   "execution_count": null,
   "id": "25eb4903-0f9d-4147-8863-9231d4fe3f89",
   "metadata": {},
   "outputs": [],
   "source": [
    "animal_pgls = rrphylo_pgls(modform= Mean_intron_ratio_log ~ Mean_total_exon_length_per_transcript_log + Mean_total_intron_length_per_transcript_log, animal_species)\n",
    "summary(animal_pgls)"
   ]
  },
  {
   "cell_type": "code",
   "execution_count": null,
   "id": "d0b7151e-d32a-454d-9b92-9b1ae95f8275",
   "metadata": {},
   "outputs": [],
   "source": [
    "plant_pgls = rrphylo_pgls(modform= Mean_intron_ratio_log ~ Mean_total_exon_length_per_transcript_log + Mean_total_intron_length_per_transcript_log, plant_species)\n",
    "summary(plant_pgls)"
   ]
  },
  {
   "cell_type": "code",
   "execution_count": null,
   "id": "41f1487a-7c63-44e9-9630-f56058588bb4",
   "metadata": {},
   "outputs": [],
   "source": [
    "fungi_pgls = rrphylo_pgls(modform= Mean_intron_ratio_log ~ Mean_total_exon_length_per_transcript_log + Mean_total_intron_length_per_transcript_log, fungi_species)\n",
    "summary(fungi_pgls)"
   ]
  },
  {
   "cell_type": "markdown",
   "id": "3414a9c3-b31f-4c41-a7bd-a027535822c3",
   "metadata": {},
   "source": [
    "### intron length / intron count"
   ]
  },
  {
   "cell_type": "code",
   "execution_count": null,
   "id": "9266eb95-0eda-479d-a691-5ce075c290e7",
   "metadata": {},
   "outputs": [],
   "source": [
    "pgls = PGLS_fossil(modform= Mean_total_intron_length_per_transcript_log ~ log_Mean * Mean_per_transcript, data=gene_structure_stats_df, RR=tot_intron_length_res$rrphylo)\n",
    "summary(pgls)"
   ]
  },
  {
   "cell_type": "code",
   "execution_count": null,
   "id": "9d983ec3-0a16-4a1b-966b-688b684fd7af",
   "metadata": {},
   "outputs": [],
   "source": [
    "pgls_bm = PGLS_fossil(modform= Mean_total_intron_length_per_transcript_log ~ log_Mean * Mean_per_transcript, data=gene_structure_stats_df, tree=tot_intron_length_res$rrphylo$tree)"
   ]
  },
  {
   "cell_type": "code",
   "execution_count": null,
   "id": "1effb92b-4d1c-4df9-bdc5-bd64dd517b2a",
   "metadata": {},
   "outputs": [],
   "source": [
    "# delta AIC - with/without RRphylo scaling\n",
    "summary(pgls_bm)$aic - summary(pgls)$aic"
   ]
  },
  {
   "cell_type": "code",
   "execution_count": null,
   "id": "44370276-c084-4e92-8c56-dc0ea92762a5",
   "metadata": {},
   "outputs": [],
   "source": [
    "summary(pgls_bm)$aic"
   ]
  },
  {
   "cell_type": "code",
   "execution_count": null,
   "id": "927c7944-b978-4044-afed-27320c520979",
   "metadata": {},
   "outputs": [],
   "source": [
    "pgls = PGLS_fossil(modform= Mean_total_intron_length_per_transcript_log ~ log_Mean + Mean_per_transcript, data=gene_structure_stats_df, RR=tot_intron_length_res$rrphylo)\n",
    "summary(pgls)"
   ]
  },
  {
   "cell_type": "code",
   "execution_count": null,
   "id": "edbe099d-3e72-47ed-a91b-3ab60999fb84",
   "metadata": {},
   "outputs": [],
   "source": [
    "pgls = PGLS_fossil(modform= Mean_total_intron_length_per_transcript_log ~ log_Mean, data=gene_structure_stats_df, RR=tot_intron_length_res$rrphylo)\n",
    "summary(pgls)"
   ]
  },
  {
   "cell_type": "code",
   "execution_count": null,
   "id": "22549d1c-6214-452e-bdb8-8a1425f77413",
   "metadata": {},
   "outputs": [],
   "source": [
    "pgls = PGLS_fossil(modform= Mean_total_intron_length_per_transcript_log ~ Mean_per_transcript, data=gene_structure_stats_df, RR=tot_intron_length_res$rrphylo)\n",
    "summary(pgls)"
   ]
  },
  {
   "cell_type": "markdown",
   "id": "dbd76cff-9b6a-4e93-a30a-bcf80fcb8f22",
   "metadata": {},
   "source": [
    "#### Per-phylum\n",
    "Fit separate model for each phylum"
   ]
  },
  {
   "cell_type": "code",
   "execution_count": null,
   "id": "cd288858-b7be-4894-88bd-861b2fc09a4a",
   "metadata": {},
   "outputs": [],
   "source": [
    "summarize_pgls = function(pgls){\n",
    "    pgls_sum = summary(pgls)\n",
    "    pgls_stats = list()\n",
    "    pgls_stats$R2 = max(pgls_sum$adj.r.squared, 0)\n",
    "    pgls_stats$AIC = pgls_sum$aic\n",
    "    pgls_coef = as.data.frame(pgls_sum$coefficients)\n",
    "    for (c in rownames(pgls_coef)){\n",
    "        pgls_stats[[c]] = pgls_coef[c,'Estimate']\n",
    "        pgls_stats[[paste0(c,'_p')]] = pgls_coef[c,'p.value']\n",
    "    }\n",
    "    return(pgls_stats)\n",
    "}"
   ]
  },
  {
   "cell_type": "code",
   "execution_count": null,
   "id": "11708713-8284-4540-a5ea-12e47d9433f5",
   "metadata": {},
   "outputs": [],
   "source": [
    "models = c(Mean_intron_ratio_log ~ Mean_total_intron_length_per_transcript_log,\n",
    "           Mean_intron_ratio_log ~ Mean_total_exon_length_per_transcript_log,\n",
    "           Mean_intron_ratio_log ~ Mean_total_exon_length_per_transcript_log + Mean_total_intron_length_per_transcript_log,\n",
    "           Mean_total_intron_length_per_transcript_log ~ log_Mean,\n",
    "           Mean_total_intron_length_per_transcript_log ~ Mean_per_transcript,\n",
    "           Mean_total_intron_length_per_transcript_log ~ log_Mean + Mean_per_transcript\n",
    ")\n",
    "names(models) = paste0('M',seq(1,6))"
   ]
  },
  {
   "cell_type": "code",
   "execution_count": null,
   "id": "b76ccf76-a45f-4098-a268-620920b61a28",
   "metadata": {},
   "outputs": [],
   "source": [
    "res = c()\n",
    "phyla = c('All', as.vector(phyla10))\n",
    "for (phyl in phyla){\n",
    "    print(phyl)\n",
    "    # extract phylum data and tree\n",
    "    if (phyl == 'All'){\n",
    "        phyl_data = gene_structure_stats_df[gene_structure_stats_df$species %in% euk_tree$tip.label,]\n",
    "    }else{\n",
    "        phyl_data = gene_structure_stats_df[gene_structure_stats_df$phylum == phyl,]\n",
    "    }   \n",
    "    phyl_species = phyl_data$species\n",
    "    phyl_tree = keep.tip(euk_tree, phyl_species)\n",
    "    # prepare data for RRphylo\n",
    "    phyl_intron_ratio = phyl_data$Mean_intron_ratio_log\n",
    "    names(phyl_intron_ratio) = phyl_species\n",
    "    phyl_tot_intron_len = phyl_data$Mean_total_intron_length_per_transcript_log\n",
    "    names(phyl_tot_intron_len) = phyl_species\n",
    "    # run RRphylo\n",
    "    phyl_intron_ratio_rr = RRphylo(tree = phyl_tree, y = phyl_intron_ratio)\n",
    "    phyl_tot_intron_len_rr = RRphylo(tree = phyl_tree, y = phyl_tot_intron_len)\n",
    "    # run PGLSs\n",
    "    phyl_model_stats = c()\n",
    "    for (model in names(models)){\n",
    "        model_formula = models[[model]]\n",
    "        dep = all.vars(model_formula)[1]\n",
    "        if (dep == \"Mean_intron_ratio_log\"){\n",
    "            rr = phyl_intron_ratio_rr\n",
    "        }else if (dep == \"Mean_total_intron_length_per_transcript_log\"){\n",
    "            rr = phyl_tot_intron_len_rr\n",
    "        }\n",
    "        pgls =  PGLS_fossil(modform=model_formula, data=gene_structure_stats_df, RR=rr)\n",
    "        pgls_stats = unlist(summarize_pgls(pgls))\n",
    "        names(pgls_stats) = paste(model, names(pgls_stats), sep = '_')\n",
    "        phyl_model_stats = c(phyl_model_stats, pgls_stats)\n",
    "    }\n",
    "    res = rbind(res, phyl_model_stats)\n",
    "}\n",
    "\n",
    "res = as.data.frame(res)\n",
    "rownames(res) = phyla"
   ]
  },
  {
   "cell_type": "code",
   "execution_count": null,
   "id": "68500fd1-4170-4e1b-ad81-ae2247f67914",
   "metadata": {},
   "outputs": [],
   "source": [
    "rownames(res) = phyla\n",
    "res"
   ]
  },
  {
   "cell_type": "code",
   "execution_count": null,
   "id": "03547703-6282-4b3f-9b6f-ff6755eef77b",
   "metadata": {},
   "outputs": [],
   "source": [
    "write.table(res, sep='\\t', file='../data/per_phylum_models.tsv')"
   ]
  },
  {
   "cell_type": "markdown",
   "id": "c5f24ac1-70ef-467a-b5a4-394a2070dd8b",
   "metadata": {},
   "source": [
    "## Distance tree plot\n",
    "Plotting the eukaryotic tree with branch lengths adjusted according to a distance matrix (based on gene structure feature distributions). The tree was inferred using FastME (Lefort et al., 2015)."
   ]
  },
  {
   "cell_type": "markdown",
   "id": "009990eb-03f6-4723-bd0b-1fb78c36c9ef",
   "metadata": {},
   "source": [
    "__Intron ratio__"
   ]
  },
  {
   "cell_type": "code",
   "execution_count": null,
   "id": "35e56f6a-ee71-4bcb-8478-9df923fe0fc8",
   "metadata": {},
   "outputs": [],
   "source": [
    "intron_ratio_distance_tree = read.tree(intron_ratio_distance_tree_nwk)"
   ]
  },
  {
   "cell_type": "code",
   "execution_count": null,
   "id": "f0563812-1b21-43d4-90be-e34d3269b4ff",
   "metadata": {},
   "outputs": [],
   "source": [
    "# simlify full species names to binomial names\n",
    "spec_list = strsplit(intron_ratio_distance_tree$tip.label, '_')\n",
    "intron_ratio_distance_tree$tip.label = unlist(lapply(spec_list, simplify))"
   ]
  },
  {
   "cell_type": "code",
   "execution_count": null,
   "id": "158a086c-9c71-41a0-be10-a1fa9948795f",
   "metadata": {},
   "outputs": [],
   "source": [
    "# keep only phyla with >=10 sspecies\n",
    "intron_ratio_distance_phyla10_tree = keep.tip(intron_ratio_distance_tree, phyla10_species)"
   ]
  },
  {
   "cell_type": "code",
   "execution_count": null,
   "id": "3d2c20ae-fb39-462d-b7df-cfdb9d3433fd",
   "metadata": {},
   "outputs": [],
   "source": [
    "# change branches with negative length to zero\n",
    "neg_to_zero = function(x){return(max(x,0))}\n",
    "intron_ratio_distance_phyla10_tree$edge.length = sapply(intron_ratio_distance_phyla10_tree$edge.length, neg_to_zero)"
   ]
  },
  {
   "cell_type": "code",
   "execution_count": null,
   "id": "9244660b-772a-47a9-8e64-8b507aab6b4b",
   "metadata": {},
   "outputs": [],
   "source": [
    "# unroot dated species tree\n",
    "euk_tree_orig = read.tree(euk_tree_nwk)\n",
    "euk_tree_orig_phyla10 = keep.tip(euk_tree_orig, intron_ratio_distance_phyla10_tree$tip.label)\n",
    "euk_tree_phyla10_ur = unroot(euk_tree_orig_phyla10)"
   ]
  },
  {
   "cell_type": "code",
   "execution_count": null,
   "id": "ba4c95eb-2985-4e97-acbc-150586fbe0bf",
   "metadata": {},
   "outputs": [],
   "source": [
    "# covert tree edges info into convenient tables\n",
    "tree_edges_to_df = function(tree){\n",
    "    tree_edges = as.data.frame(tree$edge)\n",
    "    colnames(tree_edges) = c('from','to')\n",
    "    rownames(tree_edges) = 1:nrow(tree_edges)\n",
    "    tree_edges$length = tree$edge.length\n",
    "    return(tree_edges)\n",
    "}"
   ]
  },
  {
   "cell_type": "code",
   "execution_count": null,
   "id": "babfdfa5-710d-4725-91f7-6f6daf78648a",
   "metadata": {},
   "outputs": [],
   "source": [
    "intron_ratio_distance_phyla10_tree_edges = tree_edges_to_df(intron_ratio_distance_phyla10_tree)\n",
    "euk_tree_phyla10_ur_edges = tree_edges_to_df(euk_tree_phyla10_ur)"
   ]
  },
  {
   "cell_type": "code",
   "execution_count": null,
   "id": "4e8716df-a469-4797-9a1b-03f14d06d09c",
   "metadata": {},
   "outputs": [],
   "source": [
    "# match nodes of distance and species tree\n",
    "node_match = as.data.frame(matchNodes(intron_ratio_distance_phyla10_tree, euk_tree_phyla10_ur))\n",
    "tip_match = as.data.frame(matchLabels(intron_ratio_distance_phyla10_tree, euk_tree_phyla10_ur))\n",
    "tree_match = rbind(node_match, tip_match)"
   ]
  },
  {
   "cell_type": "code",
   "execution_count": null,
   "id": "39890f75-3a5a-4fb8-8e90-c42c0b4aa79c",
   "metadata": {},
   "outputs": [],
   "source": [
    "# use node matches and edge tables to match the edges\n",
    "find_matching_edge_length = function(row){\n",
    "    from = row[1]\n",
    "    to = row[2]\n",
    "    from_match = tree_match[tree_match$tr1 == from,'tr2']\n",
    "    to_match = tree_match[tree_match$tr1 == to,'tr2']\n",
    "    if (is.na(from_match) | is.na(to_match)){\n",
    "        return(0)\n",
    "    }\n",
    "    return(euk_tree_phyla10_ur_edges[euk_tree_phyla10_ur_edges$from == from_match & euk_tree_phyla10_ur_edges$to == to_match, 'length'])\n",
    "}\n",
    "\n",
    "intron_ratio_distance_phyla10_tree_edges$time = as.numeric(apply(intron_ratio_distance_phyla10_tree_edges, 1, find_matching_edge_length))"
   ]
  },
  {
   "cell_type": "code",
   "execution_count": null,
   "id": "ba0426d0-636a-434d-9cc7-9fd7b9f26fc8",
   "metadata": {},
   "outputs": [],
   "source": [
    "# adjust distance tree branch lengths - divide by the length (time) of the corresponding species tree branch\n",
    "infnan_to_zero = function(x){\n",
    "    if (is.nan(x) | is.na(x)){\n",
    "        return(0)\n",
    "    }else if (is.infinite(x)){\n",
    "        return(0)\n",
    "    }else{\n",
    "        return(x)\n",
    "    }\n",
    "}"
   ]
  },
  {
   "cell_type": "code",
   "execution_count": null,
   "id": "a4d3eb23-076f-4394-a22c-0c2cfa6d1a6b",
   "metadata": {},
   "outputs": [],
   "source": [
    "intron_ratio_distance_phyla10_tree$edge.length = sapply(intron_ratio_distance_phyla10_tree_edges$length/(intron_ratio_distance_phyla10_tree_edges$time), infnan_to_zero)"
   ]
  },
  {
   "cell_type": "code",
   "execution_count": null,
   "id": "90820b4c-a38e-4f86-8837-07abb5de72cc",
   "metadata": {},
   "outputs": [],
   "source": [
    "intron_ratio_distance_phyla10_tree_edges$rate = sapply(intron_ratio_distance_phyla10_tree_edges$length/intron_ratio_distance_phyla10_tree_edges$time, infnan_to_zero)"
   ]
  },
  {
   "cell_type": "code",
   "execution_count": null,
   "id": "13550203-2019-46e0-9f41-63cfc9aa71f2",
   "metadata": {},
   "outputs": [],
   "source": [
    "# plot tree - color branches by phylum\n",
    "internal_nodes = unique(intron_ratio_distance_phyla10_tree$edge[,1])\n",
    "phyla10_edges = list()\n",
    "for (phy in phy_order){\n",
    "    phyla10_edges[[phy]] = c()\n",
    "}\n",
    "\n",
    "# find clades of same phylum\n",
    "for (inode in internal_nodes){\n",
    "    descendant_nodes <- getDescendants(intron_ratio_distance_phyla10_tree, inode)\n",
    "    tip_labels <- intron_ratio_distance_phyla10_tree$tip.label[descendant_nodes[descendant_nodes <= Ntip(intron_ratio_distance_phyla10_tree)]]\n",
    "    inode_phyla = unique(gene_structure_stats_df[gene_structure_stats_df$species %in% tip_labels,'phylum'])\n",
    "    if (length(inode_phyla) == 1){\n",
    "        edges = which(intron_ratio_distance_phyla10_tree$edge[,2] %in% descendant_nodes)\n",
    "        phyla10_edges[[inode_phyla]] = unique(c(phyla10_edges[[inode_phyla]], edges))\n",
    "    }\n",
    "}\n",
    "\n",
    "# add edges leading to tips\n",
    "for (phy in phy_order){\n",
    "    phy_species = gene_structure_stats_df[gene_structure_stats_df$phylum == phy, 'species']\n",
    "    phy_species_tip_numbers = which(intron_ratio_distance_phyla10_tree$tip.label %in% phy_species)\n",
    "    edges = which(intron_ratio_distance_phyla10_tree$edge[,2] %in% phy_species_tip_numbers)\n",
    "    phyla10_edges[[phy]] = unique(c(phyla10_edges[[phy]], edges))\n",
    "}\n",
    "\n",
    "edgecols = c()\n",
    "edgecols[1:nrow(intron_ratio_distance_phyla10_tree$edge)] = 'black'\n",
    "i = 1\n",
    "for (phy in phy_order){\n",
    "    edgecols[phyla10_edges[[phy]]] = colors[i]\n",
    "    i = i+1\n",
    "}"
   ]
  },
  {
   "cell_type": "code",
   "execution_count": null,
   "id": "5857b2b9-4f81-4987-b670-6d936b701592",
   "metadata": {},
   "outputs": [],
   "source": [
    "options(repr.plot.width=60, repr.plot.height=40)\n",
    "plot(intron_ratio_distance_phyla10_tree, edge.color = edgecols, edge.width=2, show.tip.label = FALSE, type='fan')"
   ]
  },
  {
   "cell_type": "code",
   "execution_count": null,
   "id": "186d873a-4f6c-48d6-bc3d-57eeac652efc",
   "metadata": {},
   "outputs": [],
   "source": [
    "pdf(file='../fig/fig_4b.pdf', width=60, height=60)\n",
    "options(repr.plot.width=60, repr.plot.height=40)\n",
    "plot(intron_ratio_distance_phyla10_tree, edge.color = edgecols, edge.width=2, show.tip.label = FALSE, type='fan')\n",
    "dev.off()"
   ]
  },
  {
   "cell_type": "markdown",
   "id": "6405b023-713c-4aef-ad10-c4267826b66f",
   "metadata": {},
   "source": [
    "__Intron length__"
   ]
  },
  {
   "cell_type": "code",
   "execution_count": null,
   "id": "8c0bd051-e9f1-4189-befd-e14d466e03d4",
   "metadata": {},
   "outputs": [],
   "source": [
    "intron_length_distance_tree = read.tree(intron_length_distance_tree_nwk)\n",
    "# simlify full species names to binomial names\n",
    "spec_list = strsplit(intron_length_distance_tree$tip.label, '_')\n",
    "intron_length_distance_tree$tip.label = unlist(lapply(spec_list, simplify))\n",
    "# keep only phyla with >=10 sspecies\n",
    "intron_length_distance_phyla10_tree = keep.tip(intron_length_distance_tree, phyla10_species)\n",
    "# change branches with negative length to zero\n",
    "intron_length_distance_phyla10_tree$edge.length = sapply(intron_length_distance_phyla10_tree$edge.length, neg_to_zero)\n",
    "\n",
    "intron_length_distance_phyla10_tree_edges = tree_edges_to_df(intron_length_distance_phyla10_tree)\n",
    "euk_tree_phyla10_ur_edges = tree_edges_to_df(euk_tree_phyla10_ur)\n",
    "\n",
    "# match nodes of distance and species tree\n",
    "node_match = as.data.frame(matchNodes(intron_length_distance_phyla10_tree, euk_tree_phyla10_ur))\n",
    "tip_match = as.data.frame(matchLabels(intron_length_distance_phyla10_tree, euk_tree_phyla10_ur))\n",
    "tree_match = rbind(node_match, tip_match)# match nodes of distance and species tree\n",
    "node_match = as.data.frame(matchNodes(intron_length_distance_phyla10_tree, euk_tree_phyla10_ur))\n",
    "tip_match = as.data.frame(matchLabels(intron_length_distance_phyla10_tree, euk_tree_phyla10_ur))\n",
    "tree_match = rbind(node_match, tip_match)\n",
    "\n",
    "intron_length_distance_phyla10_tree_edges$time = as.numeric(apply(intron_length_distance_phyla10_tree_edges, 1, find_matching_edge_length))\n",
    "\n",
    "intron_length_distance_phyla10_tree$edge.length = sapply(intron_length_distance_phyla10_tree_edges$length/(intron_length_distance_phyla10_tree_edges$time), infnan_to_zero)\n",
    "intron_length_distance_phyla10_tree_edges$rate = sapply(intron_length_distance_phyla10_tree_edges$length/intron_length_distance_phyla10_tree_edges$time, infnan_to_zero)"
   ]
  },
  {
   "cell_type": "code",
   "execution_count": null,
   "id": "5ceedca1-27e7-4f24-af5e-a71971b23317",
   "metadata": {},
   "outputs": [],
   "source": [
    "# plot tree - color branches by phylum\n",
    "internal_nodes = unique(intron_length_distance_phyla10_tree$edge[,1])\n",
    "phyla10_edges = list()\n",
    "for (phy in phy_order){\n",
    "    phyla10_edges[[phy]] = c()\n",
    "}\n",
    "\n",
    "# find clades of same phylum\n",
    "for (inode in internal_nodes){\n",
    "    descendant_nodes <- getDescendants(intron_length_distance_phyla10_tree, inode)\n",
    "    tip_labels <- intron_length_distance_phyla10_tree$tip.label[descendant_nodes[descendant_nodes <= Ntip(intron_length_distance_phyla10_tree)]]\n",
    "    inode_phyla = unique(gene_structure_stats_df[gene_structure_stats_df$species %in% tip_labels,'phylum'])\n",
    "    if (length(inode_phyla) == 1){\n",
    "        edges = which(intron_length_distance_phyla10_tree$edge[,2] %in% descendant_nodes)\n",
    "        phyla10_edges[[inode_phyla]] = unique(c(phyla10_edges[[inode_phyla]], edges))\n",
    "    }\n",
    "}\n",
    "\n",
    "# add edges leading to tips\n",
    "for (phy in phy_order){\n",
    "    phy_species = gene_structure_stats_df[gene_structure_stats_df$phylum == phy, 'species']\n",
    "    phy_species_tip_numbers = which(intron_length_distance_phyla10_tree$tip.label %in% phy_species)\n",
    "    edges = which(intron_length_distance_phyla10_tree$edge[,2] %in% phy_species_tip_numbers)\n",
    "    phyla10_edges[[phy]] = unique(c(phyla10_edges[[phy]], edges))\n",
    "}\n",
    "\n",
    "edgecols = c()\n",
    "edgecols[1:nrow(intron_length_distance_phyla10_tree$edge)] = 'black'\n",
    "i = 1\n",
    "for (phy in phy_order){\n",
    "    edgecols[phyla10_edges[[phy]]] = colors[i]\n",
    "    i = i+1\n",
    "}"
   ]
  },
  {
   "cell_type": "code",
   "execution_count": null,
   "id": "12385bc2-b34f-40a1-a75b-ac21b1d778b4",
   "metadata": {},
   "outputs": [],
   "source": [
    "options(repr.plot.width=60, repr.plot.height=40)\n",
    "plot(intron_length_distance_phyla10_tree, edge.color = edgecols, edge.width=2, show.tip.label = FALSE, type='fan')"
   ]
  },
  {
   "cell_type": "code",
   "execution_count": null,
   "id": "3dcf555d-3417-4bd6-9dae-4770bf3b0749",
   "metadata": {},
   "outputs": [],
   "source": [
    "pdf(file='../fig/fig_S3b.pdf', width=60, height=60)\n",
    "options(repr.plot.width=60, repr.plot.height=40)\n",
    "plot(intron_ratio_distance_phyla10_tree, edge.color = edgecols, edge.width=2, show.tip.label = FALSE, type='fan')\n",
    "dev.off()"
   ]
  },
  {
   "cell_type": "markdown",
   "id": "1fd5ad11-37bc-4091-830b-09fedbd3c735",
   "metadata": {},
   "source": [
    "__Intron count__"
   ]
  },
  {
   "cell_type": "code",
   "execution_count": null,
   "id": "57b16bff-45aa-4146-aeff-82b3757163b3",
   "metadata": {},
   "outputs": [],
   "source": [
    "intron_count_distance_tree = read.tree(intron_count_distance_tree_nwk)\n",
    "# simlify full species names to binomial names\n",
    "spec_list = strsplit(intron_count_distance_tree$tip.label, '_')\n",
    "intron_count_distance_tree$tip.label = unlist(lapply(spec_list, simplify))\n",
    "# keep only phyla with >=10 sspecies\n",
    "intron_count_distance_phyla10_tree = keep.tip(intron_count_distance_tree, phyla10_species)\n",
    "# change branches with negative length to zero\n",
    "intron_count_distance_phyla10_tree$edge.length = sapply(intron_count_distance_phyla10_tree$edge.length, neg_to_zero)\n",
    "\n",
    "intron_count_distance_phyla10_tree_edges = tree_edges_to_df(intron_count_distance_phyla10_tree)\n",
    "euk_tree_phyla10_ur_edges = tree_edges_to_df(euk_tree_phyla10_ur)\n",
    "\n",
    "# match nodes of distance and species tree\n",
    "node_match = as.data.frame(matchNodes(intron_count_distance_phyla10_tree, euk_tree_phyla10_ur))\n",
    "tip_match = as.data.frame(matchLabels(intron_count_distance_phyla10_tree, euk_tree_phyla10_ur))\n",
    "tree_match = rbind(node_match, tip_match)# match nodes of distance and species tree\n",
    "node_match = as.data.frame(matchNodes(intron_count_distance_phyla10_tree, euk_tree_phyla10_ur))\n",
    "tip_match = as.data.frame(matchLabels(intron_count_distance_phyla10_tree, euk_tree_phyla10_ur))\n",
    "tree_match = rbind(node_match, tip_match)\n",
    "\n",
    "intron_count_distance_phyla10_tree_edges$time = as.numeric(apply(intron_count_distance_phyla10_tree_edges, 1, find_matching_edge_length))\n",
    "\n",
    "intron_count_distance_phyla10_tree$edge.length = sapply(intron_count_distance_phyla10_tree_edges$length/(intron_count_distance_phyla10_tree_edges$time), infnan_to_zero)\n",
    "intron_count_distance_phyla10_tree_edges$rate = sapply(intron_count_distance_phyla10_tree_edges$length/intron_count_distance_phyla10_tree_edges$time, infnan_to_zero)"
   ]
  },
  {
   "cell_type": "code",
   "execution_count": null,
   "id": "917d17a1-32f1-4d3f-92c8-472d36a84a25",
   "metadata": {},
   "outputs": [],
   "source": [
    "# plot tree - color branches by phylum\n",
    "internal_nodes = unique(intron_count_distance_phyla10_tree$edge[,1])\n",
    "phyla10_edges = list()\n",
    "for (phy in phy_order){\n",
    "    phyla10_edges[[phy]] = c()\n",
    "}\n",
    "\n",
    "# find clades of same phylum\n",
    "for (inode in internal_nodes){\n",
    "    descendant_nodes <- getDescendants(intron_count_distance_phyla10_tree, inode)\n",
    "    tip_labels <- intron_count_distance_phyla10_tree$tip.label[descendant_nodes[descendant_nodes <= Ntip(intron_count_distance_phyla10_tree)]]\n",
    "    inode_phyla = unique(gene_structure_stats_df[gene_structure_stats_df$species %in% tip_labels,'phylum'])\n",
    "    if (length(inode_phyla) == 1){\n",
    "        edges = which(intron_count_distance_phyla10_tree$edge[,2] %in% descendant_nodes)\n",
    "        phyla10_edges[[inode_phyla]] = unique(c(phyla10_edges[[inode_phyla]], edges))\n",
    "    }\n",
    "}\n",
    "\n",
    "# add edges leading to tips\n",
    "for (phy in phy_order){\n",
    "    phy_species = gene_structure_stats_df[gene_structure_stats_df$phylum == phy, 'species']\n",
    "    phy_species_tip_numbers = which(intron_count_distance_phyla10_tree$tip.label %in% phy_species)\n",
    "    edges = which(intron_count_distance_phyla10_tree$edge[,2] %in% phy_species_tip_numbers)\n",
    "    phyla10_edges[[phy]] = unique(c(phyla10_edges[[phy]], edges))\n",
    "}\n",
    "\n",
    "edgecols = c()\n",
    "edgecols[1:nrow(intron_count_distance_phyla10_tree$edge)] = 'black'\n",
    "i = 1\n",
    "for (phy in phy_order){\n",
    "    edgecols[phyla10_edges[[phy]]] = colors[i]\n",
    "    i = i+1\n",
    "}"
   ]
  },
  {
   "cell_type": "code",
   "execution_count": null,
   "id": "dd0f94be-c3ae-4f7c-9fb8-9a41b9313853",
   "metadata": {},
   "outputs": [],
   "source": [
    "options(repr.plot.width=60, repr.plot.height=40)\n",
    "plot(intron_count_distance_phyla10_tree, edge.color = edgecols, edge.width=2, show.tip.label = FALSE, type='fan')"
   ]
  },
  {
   "cell_type": "code",
   "execution_count": null,
   "id": "aa43f353-8a40-4af1-8ec8-2514fd67db28",
   "metadata": {},
   "outputs": [],
   "source": [
    "pdf(file='../fig/fig_S4b.pdf', width=60, height=60)\n",
    "options(repr.plot.width=60, repr.plot.height=40)\n",
    "plot(intron_ratio_distance_phyla10_tree, edge.color = edgecols, edge.width=2, show.tip.label = FALSE, type='fan')\n",
    "dev.off()"
   ]
  },
  {
   "cell_type": "markdown",
   "id": "243cd672-9a93-4e8d-a3bb-c95dcb663672",
   "metadata": {},
   "source": [
    "## Association between genome size and gene structure features\n",
    "PGLS models for testing the correlation between genome size and gene structure features."
   ]
  },
  {
   "cell_type": "code",
   "execution_count": null,
   "id": "aa114e66-4425-4b21-b1a0-7583dbd3c6a1",
   "metadata": {},
   "outputs": [],
   "source": [
    "# complete missing genome sizes\n",
    "l = list()\n",
    "l$arabidopsis_thaliana = 119667750\n",
    "l$danaus_plexippus = 248676414\n",
    "l$fraxinus_excelsior = 867455155\n",
    "l$onthophagus_taurus = 267079363\n",
    "l$parasteatoda_tepidariorum = 1228972128\n",
    "l$quercus_suber = 953298670\n",
    "l$aegilops_tauschii = 4224915394\n",
    "l$arabis_alpina = 308032609\n",
    "l$trichinella_spiralis = 63525422\n",
    "\n",
    "for (x in names(l)){\n",
    "    gene_structure_stats_df[gene_structure_stats_df$species == x,'Genome_size'] = l[[x]]\n",
    "}"
   ]
  },
  {
   "cell_type": "code",
   "execution_count": null,
   "id": "2e01dbe4-cddd-4eb9-8e28-4feef5d3d9ea",
   "metadata": {},
   "outputs": [],
   "source": [
    "gene_structure_stats_df$log_Genome_size = log10(gene_structure_stats_df$Genome_size)"
   ]
  },
  {
   "cell_type": "code",
   "execution_count": null,
   "id": "bc2606b1-e27f-48d8-a61a-3ff2cdc59225",
   "metadata": {},
   "outputs": [],
   "source": [
    "rownames(gene_structure_stats_df) = gene_structure_stats_df$species"
   ]
  },
  {
   "cell_type": "markdown",
   "id": "01aff07b-0141-45dd-9016-f5f8766ffdd6",
   "metadata": {},
   "source": [
    "#### PGLS of all species"
   ]
  },
  {
   "cell_type": "code",
   "execution_count": null,
   "id": "b26571e3-3c65-41c7-bf66-027f05a3cf97",
   "metadata": {},
   "outputs": [],
   "source": [
    "genome_size_res = analyze_feature('Genome_size', log10)"
   ]
  },
  {
   "cell_type": "code",
   "execution_count": null,
   "id": "9e745660-5dec-4a0e-92e8-5ef96c279158",
   "metadata": {},
   "outputs": [],
   "source": [
    "# intron ratio\n",
    "pgls = PGLS_fossil(modform= log_Genome_size ~ Mean_intron_ratio_log, data=gene_structure_stats_df, RR=genome_size_res$rrphylo)\n",
    "summary(pgls)"
   ]
  },
  {
   "cell_type": "code",
   "execution_count": null,
   "id": "2bab0b99-3e53-4847-8b27-ee25d605ecd2",
   "metadata": {},
   "outputs": [],
   "source": [
    "# intron count\n",
    "pgls = PGLS_fossil(modform= log_Genome_size ~ Mean_per_transcript, data=gene_structure_stats_df, RR=genome_size_res$rrphylo)\n",
    "summary(pgls)"
   ]
  },
  {
   "cell_type": "code",
   "execution_count": null,
   "id": "2ff5e961-e5dc-4d41-b02a-2ef689b00e5c",
   "metadata": {},
   "outputs": [],
   "source": [
    "# intron length\n",
    "pgls = PGLS_fossil(modform= log_Genome_size ~ log_Mean, data=gene_structure_stats_df, RR=genome_size_res$rrphylo)\n",
    "summary(pgls)"
   ]
  },
  {
   "cell_type": "code",
   "execution_count": null,
   "id": "635e1220-3028-49c0-a2fb-a37d71e54d66",
   "metadata": {},
   "outputs": [],
   "source": [
    "pgls_bm = PGLS_fossil(modform= log_Genome_size ~ log_Mean, data=gene_structure_stats_df, tree=genome_size_res$rrphylo$tree)\n",
    "summary(pgls_bm)$aic"
   ]
  },
  {
   "cell_type": "code",
   "execution_count": null,
   "id": "9ef41f01-08a7-490c-946c-169bbee43e29",
   "metadata": {},
   "outputs": [],
   "source": [
    "pgls = PGLS_fossil(modform= log_Genome_size ~ log_Mean + Mean_per_transcript, data=gene_structure_stats_df, RR=genome_size_res$rrphylo)\n",
    "summary(pgls)"
   ]
  },
  {
   "cell_type": "markdown",
   "id": "8ed23800-3355-4673-aba4-30fbc7eeb655",
   "metadata": {},
   "source": [
    "#### PGLS per phylum"
   ]
  },
  {
   "cell_type": "code",
   "execution_count": null,
   "id": "92bae52c-a18e-443b-8e5a-a4852feb6a15",
   "metadata": {},
   "outputs": [],
   "source": [
    "features = c('log_Mean', 'Mean_per_transcript', 'Mean_intron_ratio_log')\n",
    "res = data.frame()\n",
    "for (phyl in phyla10){\n",
    "    phyl_species = gene_structure_stats_df[gene_structure_stats_df$phylum == phyl,]$species\n",
    "    phyl_tree = keep.tip(euk_tree, phyl_species)\n",
    "    phyl_data = gene_structure_stats_df[gene_structure_stats_df$species %in% phyl_species,]\n",
    "    phyl_res = c()\n",
    "    for (feature in features){\n",
    "        feature_values = phyl_data[[feature]]\n",
    "        names(feature_values) = phyl_data$species\n",
    "        feature_rrphylo = RRphylo(tree = phyl_tree, y=feature_values)\n",
    "        formula = as.formula(paste(feature, '~ log_Genome_size'))\n",
    "        pgls = PGLS_fossil(modform=formula, data=phyl_data, RR=feature_rrphylo)\n",
    "        pgls_sum = summary(pgls)\n",
    "        p_slope = pgls_sum$coefficients[2,4]\n",
    "        slope = pgls_sum$coefficients[2,1]\n",
    "        p_intercept = pgls_sum$coefficients[1,4]\n",
    "        intercept = pgls_sum$coefficients[1,1]\n",
    "        r2 = pgls_sum$adj.r.squared\n",
    "        feature_model = c(r2, p_slope, slope, p_intercept, intercept)\n",
    "        phyl_res = c(phyl_res, feature_model)\n",
    "    }\n",
    "    res = rbind(res, phyl_res)\n",
    "}"
   ]
  },
  {
   "cell_type": "code",
   "execution_count": null,
   "id": "f266a645-30af-4fff-95c0-e15bdd465d3c",
   "metadata": {},
   "outputs": [],
   "source": [
    "rownames(res) = phyla10\n",
    "headers = rep(c('R^2','p slope','slope', 'p intercept', 'intercept'),length(features))\n",
    "headers = paste(headers, rep(features, each=length(headers)/length(features)))\n",
    "colnames(res) = headers"
   ]
  },
  {
   "cell_type": "code",
   "execution_count": null,
   "id": "01f0f234-503d-4179-b389-c97ddf136b83",
   "metadata": {},
   "outputs": [],
   "source": [
    "res"
   ]
  },
  {
   "cell_type": "code",
   "execution_count": null,
   "id": "8463b808-5b61-404f-a941-f8b6942cd3e3",
   "metadata": {},
   "outputs": [],
   "source": [
    "write.table(res, sep='\\t', file='genome_size_intron_length_PGLS.tsv')"
   ]
  }
 ],
 "metadata": {
  "kernelspec": {
   "display_name": "R",
   "language": "R",
   "name": "ir"
  },
  "language_info": {
   "codemirror_mode": "r",
   "file_extension": ".r",
   "mimetype": "text/x-r-source",
   "name": "R",
   "pygments_lexer": "r",
   "version": "4.3.2"
  }
 },
 "nbformat": 4,
 "nbformat_minor": 5
}
