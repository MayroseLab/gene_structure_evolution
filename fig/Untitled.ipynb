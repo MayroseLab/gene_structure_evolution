{
 "cells": [
  {
   "cell_type": "code",
   "execution_count": 1,
   "id": "f35d5dce-9ed9-438c-b5dd-0d4a2aec7008",
   "metadata": {},
   "outputs": [
    {
     "name": "stderr",
     "output_type": "stream",
     "text": [
      "Loading required package: ape\n",
      "\n",
      "Loading required package: MASS\n",
      "\n",
      "Loading required package: mvtnorm\n",
      "\n"
     ]
    }
   ],
   "source": [
    "library(caper)"
   ]
  },
  {
   "cell_type": "code",
   "execution_count": null,
   "id": "d6dbb87d-52b3-4338-ae3b-2ec74eff0e5b",
   "metadata": {},
   "outputs": [],
   "source": []
  }
 ],
 "metadata": {
  "kernelspec": {
   "display_name": "R",
   "language": "R",
   "name": "ir"
  },
  "language_info": {
   "codemirror_mode": "r",
   "file_extension": ".r",
   "mimetype": "text/x-r-source",
   "name": "R",
   "pygments_lexer": "r",
   "version": "4.3.2"
  }
 },
 "nbformat": 4,
 "nbformat_minor": 5
}
